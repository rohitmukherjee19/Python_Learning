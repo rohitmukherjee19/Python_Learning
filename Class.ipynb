{
 "cells": [
  {
   "cell_type": "code",
   "execution_count": 103,
   "id": "084c265f-d5c4-4779-8abc-fe34e0c27ea2",
   "metadata": {},
   "outputs": [
    {
     "data": {
      "text/plain": [
       "str"
      ]
     },
     "execution_count": 103,
     "metadata": {},
     "output_type": "execute_result"
    }
   ],
   "source": [
    "a = 'Rohit'\n",
    "type(a)"
   ]
  },
  {
   "cell_type": "code",
   "execution_count": 104,
   "id": "bdac0c7c-9f60-42e0-9dc7-28428205df49",
   "metadata": {},
   "outputs": [
    {
     "data": {
      "text/plain": [
       "''"
      ]
     },
     "execution_count": 104,
     "metadata": {},
     "output_type": "execute_result"
    }
   ],
   "source": [
    "a = str()\n",
    "a"
   ]
  },
  {
   "cell_type": "code",
   "execution_count": 105,
   "id": "452016b1-4242-4e0f-83d1-ce68ef6188d1",
   "metadata": {},
   "outputs": [
    {
     "data": {
      "text/plain": [
       "'Rohit'"
      ]
     },
     "execution_count": 105,
     "metadata": {},
     "output_type": "execute_result"
    }
   ],
   "source": [
    "a = str('Rohit')\n",
    "a"
   ]
  },
  {
   "cell_type": "code",
   "execution_count": 106,
   "id": "c6012912-786c-478b-95db-715a188e81ab",
   "metadata": {},
   "outputs": [
    {
     "data": {
      "text/plain": [
       "[]"
      ]
     },
     "execution_count": 106,
     "metadata": {},
     "output_type": "execute_result"
    }
   ],
   "source": [
    "L = list()\n",
    "L"
   ]
  },
  {
   "cell_type": "code",
   "execution_count": 107,
   "id": "0949ec25-7e9e-4303-929f-4832e12f714c",
   "metadata": {},
   "outputs": [
    {
     "data": {
      "text/plain": [
       "[5, 4, 2, 6, 8, 'Rahul', {'a': 85}]"
      ]
     },
     "execution_count": 107,
     "metadata": {},
     "output_type": "execute_result"
    }
   ],
   "source": [
    "L = list([5,4,2,6,8,'Rahul', {'a': 85}])\n",
    "L"
   ]
  },
  {
   "cell_type": "markdown",
   "id": "c7c72bac-ef98-48ec-beb4-663e71bed0a5",
   "metadata": {},
   "source": [
    "## Contruction of a Class"
   ]
  },
  {
   "cell_type": "code",
   "execution_count": 108,
   "id": "9983d925-215c-4dbe-a401-0e8b3f03de5e",
   "metadata": {},
   "outputs": [],
   "source": [
    "class Bank:\n",
    "    def __init__(self):\n",
    "        print(\"Test\")\n",
    "        pass"
   ]
  },
  {
   "cell_type": "code",
   "execution_count": 109,
   "id": "ef1c0695-9914-4943-8469-2dcfa0a0078d",
   "metadata": {},
   "outputs": [
    {
     "name": "stdout",
     "output_type": "stream",
     "text": [
      "Test\n"
     ]
    },
    {
     "data": {
      "text/plain": [
       "<__main__.Bank at 0x1c53061ca00>"
      ]
     },
     "execution_count": 109,
     "metadata": {},
     "output_type": "execute_result"
    }
   ],
   "source": [
    "money = Bank()\n",
    "money"
   ]
  },
  {
   "cell_type": "code",
   "execution_count": 131,
   "id": "fdc38964-25e9-44cf-9773-c45d8ebfadea",
   "metadata": {},
   "outputs": [],
   "source": [
    "class ATM:\n",
    "    def __init__(self):\n",
    "        self.__pin = ''\n",
    "        self.__balance = 0\n",
    "        \n",
    "        self.menu()\n",
    "        \n",
    "    def menu(self):\n",
    "        cust_input = input(\"\"\"\n",
    "        1. Press 1 for check balance\n",
    "        2. Press 2 for withdraw\n",
    "        3. Press 3 for deposit\n",
    "        4. Press 4 for creating pin\n",
    "        5. Press 5 for exit\n",
    "        \"\"\")\n",
    "        \n",
    "        if cust_input == '1':\n",
    "            self.check_bal()\n",
    "        elif cust_input == '2':\n",
    "            self.withdraw()\n",
    "        elif cust_input == '3':\n",
    "            self.deposit()\n",
    "        elif cust_input == '4':\n",
    "            self.pin_create()\n",
    "        elif cust_input == '5':\n",
    "            self.exit()\n",
    "            \n",
    "    def check_bal(self):\n",
    "        pin = input(\"Enter your pin: \")\n",
    "        if pin == self.__pin:\n",
    "            print(\"Your balance is : {}\".format(self.__balance))\n",
    "        else:\n",
    "            print(\"Wrong Pin\")\n",
    "        \n",
    "        self.menu()\n",
    "        \n",
    "    def withdraw(self):\n",
    "        amount = input(\"Withdrawal Amount: \")\n",
    "        temp = input(\"Enter pin: \")\n",
    "        if temp == self.__pin:\n",
    "            if float(amount) > self.__balance:\n",
    "                print(\"Withdrawal not possible as balance is low\")\n",
    "            else:\n",
    "                self.__balance -= float(amount)\n",
    "                print(\"Amount Withdrawn Successful\")\n",
    "        else:\n",
    "            print(\"Pin not correct\")\n",
    "            \n",
    "        self.menu()\n",
    "            \n",
    "    def deposit(self):\n",
    "        dep_amnt = float(input(\"Amount to be deposited: \"))\n",
    "        pin = input(\"Enter pin\")\n",
    "        if pin == self.__pin:\n",
    "            self.__balance += dep_amnt\n",
    "            print('Amount Deposited successful')\n",
    "        else:\n",
    "            print(\"Wrong Pin\")\n",
    "            \n",
    "        self.menu()\n",
    "        \n",
    "    def pin_create(self):\n",
    "        self.__pin = input(\"Enter new pin: \")\n",
    "        print(\"New pin created: \")\n",
    "        \n",
    "        self.menu()\n",
    "        \n",
    "    def exit(self):\n",
    "        print(\"Bye\")\n",
    "        pass"
   ]
  },
  {
   "cell_type": "code",
   "execution_count": 132,
   "id": "8bd5fc3e-3c28-4b44-911b-9b32408a955e",
   "metadata": {},
   "outputs": [
    {
     "name": "stdin",
     "output_type": "stream",
     "text": [
      "\n",
      "        1. Press 1 for check balance\n",
      "        2. Press 2 for withdraw\n",
      "        3. Press 3 for deposit\n",
      "        4. Press 4 for creating pin\n",
      "        5. Press 5 for exit\n",
      "         1\n",
      "Enter your pin:  \n"
     ]
    },
    {
     "name": "stdout",
     "output_type": "stream",
     "text": [
      "Your balance is : 0\n"
     ]
    },
    {
     "name": "stdin",
     "output_type": "stream",
     "text": [
      "\n",
      "        1. Press 1 for check balance\n",
      "        2. Press 2 for withdraw\n",
      "        3. Press 3 for deposit\n",
      "        4. Press 4 for creating pin\n",
      "        5. Press 5 for exit\n",
      "         4\n",
      "Enter new pin:  9874\n"
     ]
    },
    {
     "name": "stdout",
     "output_type": "stream",
     "text": [
      "New pin created: \n"
     ]
    },
    {
     "name": "stdin",
     "output_type": "stream",
     "text": [
      "\n",
      "        1. Press 1 for check balance\n",
      "        2. Press 2 for withdraw\n",
      "        3. Press 3 for deposit\n",
      "        4. Press 4 for creating pin\n",
      "        5. Press 5 for exit\n",
      "         1\n",
      "Enter your pin:  9874\n"
     ]
    },
    {
     "name": "stdout",
     "output_type": "stream",
     "text": [
      "Your balance is : 0\n"
     ]
    },
    {
     "name": "stdin",
     "output_type": "stream",
     "text": [
      "\n",
      "        1. Press 1 for check balance\n",
      "        2. Press 2 for withdraw\n",
      "        3. Press 3 for deposit\n",
      "        4. Press 4 for creating pin\n",
      "        5. Press 5 for exit\n",
      "         3\n",
      "Amount to be deposited:  50000\n",
      "Enter pin 9874\n"
     ]
    },
    {
     "name": "stdout",
     "output_type": "stream",
     "text": [
      "Amount Deposited successful\n"
     ]
    },
    {
     "name": "stdin",
     "output_type": "stream",
     "text": [
      "\n",
      "        1. Press 1 for check balance\n",
      "        2. Press 2 for withdraw\n",
      "        3. Press 3 for deposit\n",
      "        4. Press 4 for creating pin\n",
      "        5. Press 5 for exit\n",
      "         2\n",
      "Withdrawal Amount:  2500\n",
      "Enter pin:  9874\n"
     ]
    },
    {
     "name": "stdout",
     "output_type": "stream",
     "text": [
      "Amount Withdrawn Successful\n"
     ]
    },
    {
     "name": "stdin",
     "output_type": "stream",
     "text": [
      "\n",
      "        1. Press 1 for check balance\n",
      "        2. Press 2 for withdraw\n",
      "        3. Press 3 for deposit\n",
      "        4. Press 4 for creating pin\n",
      "        5. Press 5 for exit\n",
      "         1\n",
      "Enter your pin:  9874\n"
     ]
    },
    {
     "name": "stdout",
     "output_type": "stream",
     "text": [
      "Your balance is : 47500.0\n"
     ]
    },
    {
     "name": "stdin",
     "output_type": "stream",
     "text": [
      "\n",
      "        1. Press 1 for check balance\n",
      "        2. Press 2 for withdraw\n",
      "        3. Press 3 for deposit\n",
      "        4. Press 4 for creating pin\n",
      "        5. Press 5 for exit\n",
      "         5\n"
     ]
    },
    {
     "name": "stdout",
     "output_type": "stream",
     "text": [
      "Bye\n"
     ]
    }
   ],
   "source": [
    "pnb = ATM()"
   ]
  },
  {
   "cell_type": "code",
   "execution_count": 64,
   "id": "4b9810f6-3ba6-44db-b930-2102b00a06e9",
   "metadata": {},
   "outputs": [
    {
     "name": "stdin",
     "output_type": "stream",
     "text": [
      "\n",
      "        1. Press 1 for check balance\n",
      "        2. Press 2 for withdraw\n",
      "        3. Press 3 for deposit\n",
      "        4. Press 4 for creating pin\n",
      "        5. Press 5 for exit\n",
      "         2\n",
      "Withdrawal Amount:  9999\n",
      "Enter pin:  2486\n"
     ]
    },
    {
     "name": "stdout",
     "output_type": "stream",
     "text": [
      "Pin not correct\n"
     ]
    },
    {
     "name": "stdin",
     "output_type": "stream",
     "text": [
      "\n",
      "        1. Press 1 for check balance\n",
      "        2. Press 2 for withdraw\n",
      "        3. Press 3 for deposit\n",
      "        4. Press 4 for creating pin\n",
      "        5. Press 5 for exit\n",
      "         4\n",
      "Enter new pin:  2486\n"
     ]
    },
    {
     "name": "stdout",
     "output_type": "stream",
     "text": [
      "New pin created: \n"
     ]
    },
    {
     "name": "stdin",
     "output_type": "stream",
     "text": [
      "\n",
      "        1. Press 1 for check balance\n",
      "        2. Press 2 for withdraw\n",
      "        3. Press 3 for deposit\n",
      "        4. Press 4 for creating pin\n",
      "        5. Press 5 for exit\n",
      "         1\n",
      "Enter your pin:  2486\n"
     ]
    },
    {
     "name": "stdout",
     "output_type": "stream",
     "text": [
      "Your balance is : 0\n"
     ]
    },
    {
     "name": "stdin",
     "output_type": "stream",
     "text": [
      "\n",
      "        1. Press 1 for check balance\n",
      "        2. Press 2 for withdraw\n",
      "        3. Press 3 for deposit\n",
      "        4. Press 4 for creating pin\n",
      "        5. Press 5 for exit\n",
      "         3\n",
      "Amount to be deposited:  5000\n",
      "Enter pin 2486\n"
     ]
    },
    {
     "name": "stdout",
     "output_type": "stream",
     "text": [
      "Amount Deposited successful\n"
     ]
    },
    {
     "name": "stdin",
     "output_type": "stream",
     "text": [
      "\n",
      "        1. Press 1 for check balance\n",
      "        2. Press 2 for withdraw\n",
      "        3. Press 3 for deposit\n",
      "        4. Press 4 for creating pin\n",
      "        5. Press 5 for exit\n",
      "         1\n",
      "Enter your pin:  9874\n"
     ]
    },
    {
     "name": "stdout",
     "output_type": "stream",
     "text": [
      "Wrong Pin\n"
     ]
    },
    {
     "name": "stdin",
     "output_type": "stream",
     "text": [
      "\n",
      "        1. Press 1 for check balance\n",
      "        2. Press 2 for withdraw\n",
      "        3. Press 3 for deposit\n",
      "        4. Press 4 for creating pin\n",
      "        5. Press 5 for exit\n",
      "         1\n",
      "Enter your pin:  2486\n"
     ]
    },
    {
     "name": "stdout",
     "output_type": "stream",
     "text": [
      "Your balance is : 5000.0\n"
     ]
    },
    {
     "name": "stdin",
     "output_type": "stream",
     "text": [
      "\n",
      "        1. Press 1 for check balance\n",
      "        2. Press 2 for withdraw\n",
      "        3. Press 3 for deposit\n",
      "        4. Press 4 for creating pin\n",
      "        5. Press 5 for exit\n",
      "         2\n",
      "Withdrawal Amount:  500\n",
      "Enter pin:  2486\n"
     ]
    },
    {
     "name": "stdout",
     "output_type": "stream",
     "text": [
      "Amount Withdrawn Successful\n"
     ]
    },
    {
     "name": "stdin",
     "output_type": "stream",
     "text": [
      "\n",
      "        1. Press 1 for check balance\n",
      "        2. Press 2 for withdraw\n",
      "        3. Press 3 for deposit\n",
      "        4. Press 4 for creating pin\n",
      "        5. Press 5 for exit\n",
      "         1\n",
      "Enter your pin:  2486\n"
     ]
    },
    {
     "name": "stdout",
     "output_type": "stream",
     "text": [
      "Your balance is : 4500.0\n"
     ]
    },
    {
     "name": "stdin",
     "output_type": "stream",
     "text": [
      "\n",
      "        1. Press 1 for check balance\n",
      "        2. Press 2 for withdraw\n",
      "        3. Press 3 for deposit\n",
      "        4. Press 4 for creating pin\n",
      "        5. Press 5 for exit\n",
      "         5\n"
     ]
    },
    {
     "name": "stdout",
     "output_type": "stream",
     "text": [
      "Bye\n"
     ]
    }
   ],
   "source": [
    "hdfc = ATM()"
   ]
  },
  {
   "cell_type": "code",
   "execution_count": 49,
   "id": "1b7201de-8904-40d7-92bf-40d49e040127",
   "metadata": {},
   "outputs": [
    {
     "name": "stdin",
     "output_type": "stream",
     "text": [
      "Amount to be deposited 5000\n",
      "Enter pin 9874\n"
     ]
    },
    {
     "name": "stdout",
     "output_type": "stream",
     "text": [
      "Amount Deposited successful\n"
     ]
    }
   ],
   "source": [
    "pnb.deposit()"
   ]
  },
  {
   "cell_type": "code",
   "execution_count": 50,
   "id": "33d79956-5ea3-4f90-9bf9-f010cbe48111",
   "metadata": {},
   "outputs": [
    {
     "name": "stdin",
     "output_type": "stream",
     "text": [
      "Enter your pin 9874\n"
     ]
    },
    {
     "name": "stdout",
     "output_type": "stream",
     "text": [
      "Your balance is : 5000.0\n"
     ]
    }
   ],
   "source": [
    "pnb.check_bal()"
   ]
  },
  {
   "cell_type": "code",
   "execution_count": 51,
   "id": "3f80a218-a78e-47c3-9a7b-2bbfaeacbefb",
   "metadata": {},
   "outputs": [
    {
     "name": "stdin",
     "output_type": "stream",
     "text": [
      "Withdrawal Amount 2000\n",
      "Enter pin 9874\n"
     ]
    },
    {
     "name": "stdout",
     "output_type": "stream",
     "text": [
      "Amount Withdrawn Successful\n"
     ]
    }
   ],
   "source": [
    "pnb.withdraw()"
   ]
  },
  {
   "cell_type": "code",
   "execution_count": 52,
   "id": "d616e95a-995c-4d84-aa86-8507ce1cbf93",
   "metadata": {},
   "outputs": [
    {
     "name": "stdin",
     "output_type": "stream",
     "text": [
      "Enter your pin 9874\n"
     ]
    },
    {
     "name": "stdout",
     "output_type": "stream",
     "text": [
      "Your balance is : 3000.0\n"
     ]
    }
   ],
   "source": [
    "pnb.check_bal()"
   ]
  },
  {
   "cell_type": "code",
   "execution_count": 53,
   "id": "915aa28f-15f1-4548-bcc6-219e164091f0",
   "metadata": {},
   "outputs": [
    {
     "name": "stdout",
     "output_type": "stream",
     "text": [
      "Bye\n"
     ]
    }
   ],
   "source": [
    "pnb.exit()"
   ]
  },
  {
   "cell_type": "markdown",
   "id": "54cc7238-9bfa-48b1-994d-d84d0f3fafd9",
   "metadata": {},
   "source": [
    "## Class for dealing with fractions"
   ]
  },
  {
   "cell_type": "code",
   "execution_count": 112,
   "id": "2223858a-efeb-4719-82da-006583b8ce5d",
   "metadata": {},
   "outputs": [],
   "source": [
    "class Fraction:\n",
    "    \n",
    "    def __init__(self, n, d):\n",
    "        self.num = n\n",
    "        self.den = d\n",
    "        print(\"The fraction is {}/{}\".format(self.num, self.den))"
   ]
  },
  {
   "cell_type": "code",
   "execution_count": 113,
   "id": "6c163581-3edb-4862-a57b-f8387a2464f3",
   "metadata": {},
   "outputs": [
    {
     "name": "stdout",
     "output_type": "stream",
     "text": [
      "The fraction is 4/5\n",
      "The fraction is 2/3\n"
     ]
    }
   ],
   "source": [
    "num1 = Fraction(4,5)\n",
    "num2 = Fraction(2,3)"
   ]
  },
  {
   "cell_type": "code",
   "execution_count": 114,
   "id": "ef839535-84fa-4ab7-9fa3-1e8c9640a40b",
   "metadata": {},
   "outputs": [
    {
     "data": {
      "text/plain": [
       "__main__.Fraction"
      ]
     },
     "execution_count": 114,
     "metadata": {},
     "output_type": "execute_result"
    }
   ],
   "source": [
    "type(frac)"
   ]
  },
  {
   "cell_type": "code",
   "execution_count": 115,
   "id": "3811774c-4b5e-4a4b-bf37-b7409f26a9c4",
   "metadata": {},
   "outputs": [],
   "source": [
    "class Fraction:\n",
    "    \n",
    "    def __init__(self, n, d):\n",
    "        self.num = n\n",
    "        self.den = d\n",
    "        \n",
    "    def __str__(self):\n",
    "        return (\"The fraction is {}/{}:\".format(self.num, self.den))"
   ]
  },
  {
   "cell_type": "code",
   "execution_count": 116,
   "id": "48015ab1-ed87-481f-8607-1917187447a1",
   "metadata": {},
   "outputs": [],
   "source": [
    "num1 = Fraction(4,5)"
   ]
  },
  {
   "cell_type": "code",
   "execution_count": 117,
   "id": "ea45086c-b9bb-4d23-939b-b26bed9ab940",
   "metadata": {},
   "outputs": [
    {
     "name": "stdout",
     "output_type": "stream",
     "text": [
      "The fraction is 4/5:\n"
     ]
    }
   ],
   "source": [
    "print(num1)"
   ]
  },
  {
   "cell_type": "code",
   "execution_count": 118,
   "id": "caf67907-ef81-4f5a-8493-8e331e11fc27",
   "metadata": {},
   "outputs": [],
   "source": [
    "class Fraction:\n",
    "    \n",
    "    def __init__(self, n, d):\n",
    "        self.num = n\n",
    "        self.den = d\n",
    "        \n",
    "    def __str__(self):\n",
    "        return (\"The fraction is {}/{}:\".format(self.num, self.den))\n",
    "    \n",
    "    def __add__(self, other):\n",
    "        temp_num = self.num*other.den + self.den*other.den\n",
    "        temp_den = self.den*other.den\n",
    "        return (\"Result is : {}/{}\".format(temp_num, temp_den))"
   ]
  },
  {
   "cell_type": "code",
   "execution_count": 119,
   "id": "991bd743-e5d9-4ba4-bfad-718fb88771fe",
   "metadata": {},
   "outputs": [],
   "source": [
    "num1 = Fraction(2,3)\n",
    "num2 = Fraction(4,5)"
   ]
  },
  {
   "cell_type": "code",
   "execution_count": 120,
   "id": "f00d7bf8-24b8-4874-afdc-105889d7aaa7",
   "metadata": {},
   "outputs": [
    {
     "name": "stdout",
     "output_type": "stream",
     "text": [
      "The fraction is 2/3:\n"
     ]
    }
   ],
   "source": [
    "print(num1)"
   ]
  },
  {
   "cell_type": "code",
   "execution_count": 121,
   "id": "01bd3752-8df5-4f8b-bbff-89300bb8d50d",
   "metadata": {},
   "outputs": [
    {
     "name": "stdout",
     "output_type": "stream",
     "text": [
      "The fraction is 4/5:\n"
     ]
    }
   ],
   "source": [
    "print(num2)"
   ]
  },
  {
   "cell_type": "code",
   "execution_count": 122,
   "id": "f52368e6-b937-4329-8519-87f33e14a842",
   "metadata": {},
   "outputs": [
    {
     "name": "stdout",
     "output_type": "stream",
     "text": [
      "Result is : 25/15\n"
     ]
    }
   ],
   "source": [
    "print(num1+num2)"
   ]
  },
  {
   "cell_type": "code",
   "execution_count": 123,
   "id": "8e736483-9d3b-4077-a6a5-b19f29a8bd91",
   "metadata": {},
   "outputs": [],
   "source": [
    "class Fraction:\n",
    "    \n",
    "    def __init__(self, n, d):\n",
    "        self.num = n\n",
    "        self.den = d\n",
    "        \n",
    "    def __str__(self):\n",
    "        return (\"The fraction is {}/{}:\".format(self.num, self.den))\n",
    "    \n",
    "    def __add__(self, other):\n",
    "        temp_num = self.num*other.den + self.den*other.num\n",
    "        temp_den = self.den*other.den\n",
    "        return (\"Result is : {}/{}\".format(temp_num, temp_den))\n",
    "    \n",
    "    def __sub__(self, other):\n",
    "        temp_num = self.num*other.den - self.den*other.num\n",
    "        temp_den = self.den*other.den\n",
    "        return (\"Result is : {}/{}\".format(temp_num, temp_den))\n",
    "    \n",
    "    def __mul__(self, other):\n",
    "        temp_num = self.num*other.num\n",
    "        temp_den = self.den*other.den\n",
    "        return (\"Result is : {}/{}\".format(temp_num, temp_den))\n",
    "    \n",
    "    def __truediv__(self, other):\n",
    "        temp_num = self.num*other.den\n",
    "        temp_den = self.den*other.num\n",
    "        return (\"Result is : {}/{}\".format(temp_num, temp_den))"
   ]
  },
  {
   "cell_type": "code",
   "execution_count": 124,
   "id": "4abe66da-4100-41a0-97ad-a4d699d17293",
   "metadata": {},
   "outputs": [],
   "source": [
    "num1 = Fraction(2,3)\n",
    "num2 = Fraction(4,5)"
   ]
  },
  {
   "cell_type": "code",
   "execution_count": 125,
   "id": "3ea7e5c2-c35c-47d0-9446-114686e09bb2",
   "metadata": {},
   "outputs": [
    {
     "name": "stdout",
     "output_type": "stream",
     "text": [
      "The fraction is 2/3:\n"
     ]
    }
   ],
   "source": [
    "print(num1)"
   ]
  },
  {
   "cell_type": "code",
   "execution_count": 126,
   "id": "a3537cf0-bad4-4b6d-ab93-6b4b55682895",
   "metadata": {},
   "outputs": [
    {
     "name": "stdout",
     "output_type": "stream",
     "text": [
      "The fraction is 4/5:\n"
     ]
    }
   ],
   "source": [
    "print(num2)"
   ]
  },
  {
   "cell_type": "code",
   "execution_count": 127,
   "id": "98febdbc-8c7e-4770-a875-5c824397e212",
   "metadata": {},
   "outputs": [
    {
     "name": "stdout",
     "output_type": "stream",
     "text": [
      "Result is : 22/15\n"
     ]
    }
   ],
   "source": [
    "print(num1+num2)"
   ]
  },
  {
   "cell_type": "code",
   "execution_count": 128,
   "id": "7a82c0a2-abd1-4061-ab5e-c463f424426f",
   "metadata": {},
   "outputs": [
    {
     "name": "stdout",
     "output_type": "stream",
     "text": [
      "Result is : 8/15\n"
     ]
    }
   ],
   "source": [
    "print(num1*num2)"
   ]
  },
  {
   "cell_type": "code",
   "execution_count": 129,
   "id": "32b360b8-4138-497e-b2ae-b8d3b9aae4c2",
   "metadata": {},
   "outputs": [
    {
     "name": "stdout",
     "output_type": "stream",
     "text": [
      "Result is : -2/15\n"
     ]
    }
   ],
   "source": [
    "print(num1-num2)"
   ]
  },
  {
   "cell_type": "code",
   "execution_count": 130,
   "id": "d2781219-ddb0-40ef-bc82-8c53d3105e2b",
   "metadata": {},
   "outputs": [
    {
     "name": "stdout",
     "output_type": "stream",
     "text": [
      "Result is : 10/12\n"
     ]
    }
   ],
   "source": [
    "print(num1/num2)"
   ]
  },
  {
   "cell_type": "code",
   "execution_count": 133,
   "id": "2b03430d-953c-4f69-9638-3d760bf9eabd",
   "metadata": {},
   "outputs": [],
   "source": [
    "class ATM:\n",
    "    def __init__(self):\n",
    "        self.__pin = ''\n",
    "        self.__balance = 0\n",
    "        \n",
    "        self.menu()\n",
    "        \n",
    "    def menu(self):\n",
    "        cust_input = input(\"\"\"\n",
    "        1. Press 1 for check balance\n",
    "        2. Press 2 for withdraw\n",
    "        3. Press 3 for deposit\n",
    "        4. Press 4 for creating pin\n",
    "        5. Press 5 for exit\n",
    "        \"\"\")\n",
    "        \n",
    "        if cust_input == '1':\n",
    "            self.check_bal()\n",
    "        elif cust_input == '2':\n",
    "            self.withdraw()\n",
    "        elif cust_input == '3':\n",
    "            self.deposit()\n",
    "        elif cust_input == '4':\n",
    "            self.pin_create()\n",
    "        elif cust_input == '5':\n",
    "            self.exit()\n",
    "            \n",
    "    def get_pin(self):\n",
    "        print(\"Pin is {}\".format(self.__pin))\n",
    "        \n",
    "    def set_pin(self, new_pin):\n",
    "        self.__pin = str(new_pin)\n",
    "        print(\"Pin changed successful\")\n",
    "        \n",
    "    def check_bal(self):\n",
    "        pin = input(\"Enter your pin: \")\n",
    "        if pin == self.__pin:\n",
    "            print(\"Your balance is : {}\".format(self.__balance))\n",
    "        else:\n",
    "            print(\"Wrong Pin\")\n",
    "        \n",
    "        self.menu()\n",
    "        \n",
    "    def withdraw(self):\n",
    "        amount = input(\"Withdrawal Amount: \")\n",
    "        temp = input(\"Enter pin: \")\n",
    "        if temp == self.__pin:\n",
    "            if float(amount) > self.__balance:\n",
    "                print(\"Withdrawal not possible as balance is low\")\n",
    "            else:\n",
    "                self.__balance -= float(amount)\n",
    "                print(\"Amount Withdrawn Successful\")\n",
    "        else:\n",
    "            print(\"Pin not correct\")\n",
    "            \n",
    "        self.menu()\n",
    "            \n",
    "    def deposit(self):\n",
    "        dep_amnt = float(input(\"Amount to be deposited: \"))\n",
    "        pin = input(\"Enter pin\")\n",
    "        if pin == self.__pin:\n",
    "            self.__balance += dep_amnt\n",
    "            print('Amount Deposited successful')\n",
    "        else:\n",
    "            print(\"Wrong Pin\")\n",
    "            \n",
    "        self.menu()\n",
    "        \n",
    "    def pin_create(self):\n",
    "        self.__pin = input(\"Enter new pin: \")\n",
    "        print(\"New pin created: \")\n",
    "        \n",
    "        self.menu()\n",
    "        \n",
    "    def exit(self):\n",
    "        print(\"Bye\")\n",
    "        pass"
   ]
  },
  {
   "cell_type": "code",
   "execution_count": 135,
   "id": "83e7832a-e782-4786-b817-21b6bbb8938a",
   "metadata": {},
   "outputs": [
    {
     "name": "stdin",
     "output_type": "stream",
     "text": [
      "\n",
      "        1. Press 1 for check balance\n",
      "        2. Press 2 for withdraw\n",
      "        3. Press 3 for deposit\n",
      "        4. Press 4 for creating pin\n",
      "        5. Press 5 for exit\n",
      "         4\n",
      "Enter new pin:  9874\n"
     ]
    },
    {
     "name": "stdout",
     "output_type": "stream",
     "text": [
      "New pin created: \n"
     ]
    },
    {
     "name": "stdin",
     "output_type": "stream",
     "text": [
      "\n",
      "        1. Press 1 for check balance\n",
      "        2. Press 2 for withdraw\n",
      "        3. Press 3 for deposit\n",
      "        4. Press 4 for creating pin\n",
      "        5. Press 5 for exit\n",
      "         1\n",
      "Enter your pin:  9874\n"
     ]
    },
    {
     "name": "stdout",
     "output_type": "stream",
     "text": [
      "Your balance is : 0\n"
     ]
    },
    {
     "name": "stdin",
     "output_type": "stream",
     "text": [
      "\n",
      "        1. Press 1 for check balance\n",
      "        2. Press 2 for withdraw\n",
      "        3. Press 3 for deposit\n",
      "        4. Press 4 for creating pin\n",
      "        5. Press 5 for exit\n",
      "         5\n"
     ]
    },
    {
     "name": "stdout",
     "output_type": "stream",
     "text": [
      "Bye\n"
     ]
    }
   ],
   "source": [
    "icici = ATM()"
   ]
  },
  {
   "cell_type": "code",
   "execution_count": 136,
   "id": "dc952c4b-17e1-4d8f-8173-87fd003156a1",
   "metadata": {},
   "outputs": [
    {
     "name": "stdout",
     "output_type": "stream",
     "text": [
      "Pin is 9874\n"
     ]
    }
   ],
   "source": [
    "icici.get_pin()"
   ]
  },
  {
   "cell_type": "code",
   "execution_count": 137,
   "id": "db90582d-c499-4021-8b08-7bc43c4f3e15",
   "metadata": {},
   "outputs": [
    {
     "name": "stdout",
     "output_type": "stream",
     "text": [
      "Pin changed successful\n"
     ]
    }
   ],
   "source": [
    "icici.set_pin(3971)"
   ]
  },
  {
   "cell_type": "code",
   "execution_count": 138,
   "id": "f19d0981-4f87-4bba-9f25-1e729cb04628",
   "metadata": {},
   "outputs": [
    {
     "name": "stdout",
     "output_type": "stream",
     "text": [
      "Pin is 3971\n"
     ]
    }
   ],
   "source": [
    "icici.get_pin()"
   ]
  },
  {
   "cell_type": "code",
   "execution_count": 140,
   "id": "97d72c72-c4ef-4573-a2d5-5c0a70cc2bda",
   "metadata": {},
   "outputs": [
    {
     "name": "stdin",
     "output_type": "stream",
     "text": [
      "Enter your pin:  3971\n"
     ]
    },
    {
     "name": "stdout",
     "output_type": "stream",
     "text": [
      "Your balance is : 0\n"
     ]
    },
    {
     "name": "stdin",
     "output_type": "stream",
     "text": [
      "\n",
      "        1. Press 1 for check balance\n",
      "        2. Press 2 for withdraw\n",
      "        3. Press 3 for deposit\n",
      "        4. Press 4 for creating pin\n",
      "        5. Press 5 for exit\n",
      "         3\n",
      "Amount to be deposited:  5120\n",
      "Enter pin 3971\n"
     ]
    },
    {
     "name": "stdout",
     "output_type": "stream",
     "text": [
      "Amount Deposited successful\n"
     ]
    },
    {
     "name": "stdin",
     "output_type": "stream",
     "text": [
      "\n",
      "        1. Press 1 for check balance\n",
      "        2. Press 2 for withdraw\n",
      "        3. Press 3 for deposit\n",
      "        4. Press 4 for creating pin\n",
      "        5. Press 5 for exit\n",
      "         1\n",
      "Enter your pin:  3971\n"
     ]
    },
    {
     "name": "stdout",
     "output_type": "stream",
     "text": [
      "Your balance is : 5120.0\n"
     ]
    },
    {
     "name": "stdin",
     "output_type": "stream",
     "text": [
      "\n",
      "        1. Press 1 for check balance\n",
      "        2. Press 2 for withdraw\n",
      "        3. Press 3 for deposit\n",
      "        4. Press 4 for creating pin\n",
      "        5. Press 5 for exit\n",
      "         5\n"
     ]
    },
    {
     "name": "stdout",
     "output_type": "stream",
     "text": [
      "Bye\n"
     ]
    }
   ],
   "source": [
    "icici.check_bal()"
   ]
  },
  {
   "cell_type": "code",
   "execution_count": 141,
   "id": "f9ddfb70-a44c-4c08-8d1c-42aa12a42552",
   "metadata": {},
   "outputs": [
    {
     "name": "stdin",
     "output_type": "stream",
     "text": [
      "\n",
      "        1. Press 1 for check balance\n",
      "        2. Press 2 for withdraw\n",
      "        3. Press 3 for deposit\n",
      "        4. Press 4 for creating pin\n",
      "        5. Press 5 for exit\n",
      "         4\n",
      "Enter new pin:  2405\n"
     ]
    },
    {
     "name": "stdout",
     "output_type": "stream",
     "text": [
      "New pin created: \n"
     ]
    },
    {
     "name": "stdin",
     "output_type": "stream",
     "text": [
      "\n",
      "        1. Press 1 for check balance\n",
      "        2. Press 2 for withdraw\n",
      "        3. Press 3 for deposit\n",
      "        4. Press 4 for creating pin\n",
      "        5. Press 5 for exit\n",
      "         5\n"
     ]
    },
    {
     "name": "stdout",
     "output_type": "stream",
     "text": [
      "Bye\n"
     ]
    },
    {
     "data": {
      "text/plain": [
       "<__main__.ATM at 0x1c530305c10>"
      ]
     },
     "execution_count": 141,
     "metadata": {},
     "output_type": "execute_result"
    }
   ],
   "source": [
    "ATM()"
   ]
  },
  {
   "cell_type": "code",
   "execution_count": 142,
   "id": "a928a3ec-5e58-4595-ae25-8af189e3d75f",
   "metadata": {},
   "outputs": [],
   "source": [
    "class Customer:\n",
    "    \n",
    "    def __init__(self, name):\n",
    "        self.name = name"
   ]
  },
  {
   "cell_type": "code",
   "execution_count": 143,
   "id": "149066e7-292e-475c-a958-a4d8eaf7bc3e",
   "metadata": {},
   "outputs": [
    {
     "name": "stdout",
     "output_type": "stream",
     "text": [
      "Rohit\n"
     ]
    }
   ],
   "source": [
    "cust_id = Customer('Rohit')\n",
    "print(cust_id.name)"
   ]
  },
  {
   "cell_type": "code",
   "execution_count": 144,
   "id": "8e0de87a-9cea-4699-ae99-4a333cc43f02",
   "metadata": {},
   "outputs": [],
   "source": [
    "class Customer:\n",
    "    \n",
    "    def __init__(self, name, gender):\n",
    "        self.name = name\n",
    "        self.gender = gender\n",
    "        \n",
    "def greet(cust):\n",
    "    if cust.gender == 'Male':\n",
    "        print(\"Hi Mr. {}\".format(cust.name))\n",
    "    elif cust.gender == 'Female':\n",
    "        print(\"Hi Mrs. {}\".format(cust.name))\n",
    "    else:\n",
    "        print(\"Gender is not specified\")"
   ]
  },
  {
   "cell_type": "code",
   "execution_count": 145,
   "id": "dc2f6641-855d-4442-a9eb-109e6e4fad84",
   "metadata": {},
   "outputs": [
    {
     "name": "stdout",
     "output_type": "stream",
     "text": [
      "Hi Mr. Rohit\n"
     ]
    }
   ],
   "source": [
    "myself = Customer('Rohit', 'Male')\n",
    "greet(myself)"
   ]
  },
  {
   "cell_type": "code",
   "execution_count": 146,
   "id": "bff70f9f-6167-4ffa-8d6f-3f17c28eba07",
   "metadata": {},
   "outputs": [
    {
     "name": "stdout",
     "output_type": "stream",
     "text": [
      "Hi Mrs. Nandini\n"
     ]
    }
   ],
   "source": [
    "partner = Customer('Nandini', 'Female')\n",
    "greet(partner)"
   ]
  },
  {
   "cell_type": "code",
   "execution_count": 150,
   "id": "e870eeeb-f965-4e0f-aa52-ebeb3d5ae475",
   "metadata": {},
   "outputs": [
    {
     "name": "stdout",
     "output_type": "stream",
     "text": [
      "Rohit 27\n",
      "Rahul 27\n",
      "Subhadeep 26\n"
     ]
    }
   ],
   "source": [
    "class Customer:\n",
    "    \n",
    "    def __init__(self, name, age):\n",
    "        self.name = name\n",
    "        self.age = age\n",
    "        \n",
    "c1 = Customer('Rohit', 27)\n",
    "c2 = Customer('Rahul', 27)\n",
    "c3 = Customer('Subhadeep', 26)\n",
    "\n",
    "L = list([c1, c2, c3])\n",
    "\n",
    "#for i in L:\n",
    "    #print(i)\n",
    "    \n",
    "for i in L:\n",
    "    print(i.name, i.age)"
   ]
  },
  {
   "cell_type": "markdown",
   "id": "ac3bba5a-b64d-4203-9614-d293d1f5b510",
   "metadata": {},
   "source": [
    "### Static variabe"
   ]
  },
  {
   "cell_type": "code",
   "execution_count": 168,
   "id": "8ab6259a-b75c-48aa-be2b-60aca08bc6b9",
   "metadata": {},
   "outputs": [],
   "source": [
    "class ATM:\n",
    "    \n",
    "    #Class variable\n",
    "    __counter = 1\n",
    "    \n",
    "    def __init__(self):\n",
    "        self.__pin = ''\n",
    "        self.__balance = 0\n",
    "        self.sno = ATM.__counter\n",
    "        ATM.__counter += 1\n",
    "        \n",
    "        self.menu()\n",
    "        \n",
    "    @staticmethod\n",
    "    def get_counter():\n",
    "        return ATM.__counter\n",
    "    \n",
    "    @staticmethod\n",
    "    def set_counter(new):\n",
    "        if type(new) == int:\n",
    "            ATM.__counter = new\n",
    "        else:\n",
    "            return \"Not valid\"\n",
    "        \n",
    "    def menu(self):\n",
    "        cust_input = input(\"\"\"\n",
    "        1. Press 1 for check balance\n",
    "        2. Press 2 for withdraw\n",
    "        3. Press 3 for deposit\n",
    "        4. Press 4 for creating pin\n",
    "        5. Press 5 for exit\n",
    "        \"\"\")\n",
    "        \n",
    "        if cust_input == '1':\n",
    "            self.check_bal()\n",
    "        elif cust_input == '2':\n",
    "            self.withdraw()\n",
    "        elif cust_input == '3':\n",
    "            self.deposit()\n",
    "        elif cust_input == '4':\n",
    "            self.pin_create()\n",
    "        elif cust_input == '5':\n",
    "            self.exit()\n",
    "            \n",
    "    def get_pin(self):\n",
    "        print(\"Pin is {}\".format(self.__pin))\n",
    "        \n",
    "    def set_pin(self, new_pin):\n",
    "        self.__pin = str(new_pin)\n",
    "        print(\"Pin changed successful\")\n",
    "        \n",
    "    def check_bal(self):\n",
    "        pin = input(\"Enter your pin: \")\n",
    "        if pin == self.__pin:\n",
    "            print(\"Your balance is : {}\".format(self.__balance))\n",
    "        else:\n",
    "            print(\"Wrong Pin\")\n",
    "        \n",
    "        self.menu()\n",
    "        \n",
    "    def withdraw(self):\n",
    "        amount = input(\"Withdrawal Amount: \")\n",
    "        temp = input(\"Enter pin: \")\n",
    "        if temp == self.__pin:\n",
    "            if float(amount) > self.__balance:\n",
    "                print(\"Withdrawal not possible as balance is low\")\n",
    "            else:\n",
    "                self.__balance -= float(amount)\n",
    "                print(\"Amount Withdrawn Successful\")\n",
    "        else:\n",
    "            print(\"Pin not correct\")\n",
    "            \n",
    "        self.menu()\n",
    "            \n",
    "    def deposit(self):\n",
    "        dep_amnt = float(input(\"Amount to be deposited: \"))\n",
    "        pin = input(\"Enter pin\")\n",
    "        if pin == self.__pin:\n",
    "            self.__balance += dep_amnt\n",
    "            print('Amount Deposited successful')\n",
    "        else:\n",
    "            print(\"Wrong Pin\")\n",
    "            \n",
    "        self.menu()\n",
    "        \n",
    "    def pin_create(self):\n",
    "        self.__pin = input(\"Enter new pin: \")\n",
    "        print(\"New pin created: \")\n",
    "        \n",
    "        self.menu()\n",
    "        \n",
    "    def exit(self):\n",
    "        print(\"Bye\")\n",
    "        pass"
   ]
  },
  {
   "cell_type": "code",
   "execution_count": 152,
   "id": "7478d99b-0bc0-4ff5-9ee9-ed685a3c766c",
   "metadata": {},
   "outputs": [
    {
     "name": "stdin",
     "output_type": "stream",
     "text": [
      "\n",
      "        1. Press 1 for check balance\n",
      "        2. Press 2 for withdraw\n",
      "        3. Press 3 for deposit\n",
      "        4. Press 4 for creating pin\n",
      "        5. Press 5 for exit\n",
      "         4\n",
      "Enter new pin:  9874\n"
     ]
    },
    {
     "name": "stdout",
     "output_type": "stream",
     "text": [
      "New pin created: \n"
     ]
    },
    {
     "name": "stdin",
     "output_type": "stream",
     "text": [
      "\n",
      "        1. Press 1 for check balance\n",
      "        2. Press 2 for withdraw\n",
      "        3. Press 3 for deposit\n",
      "        4. Press 4 for creating pin\n",
      "        5. Press 5 for exit\n",
      "         5\n"
     ]
    },
    {
     "name": "stdout",
     "output_type": "stream",
     "text": [
      "Bye\n"
     ]
    }
   ],
   "source": [
    "icici = ATM()"
   ]
  },
  {
   "cell_type": "code",
   "execution_count": 153,
   "id": "ec6fc2ca-0657-4331-a220-94f2352f57d8",
   "metadata": {},
   "outputs": [
    {
     "name": "stdin",
     "output_type": "stream",
     "text": [
      "\n",
      "        1. Press 1 for check balance\n",
      "        2. Press 2 for withdraw\n",
      "        3. Press 3 for deposit\n",
      "        4. Press 4 for creating pin\n",
      "        5. Press 5 for exit\n",
      "         4\n",
      "Enter new pin:  3971\n"
     ]
    },
    {
     "name": "stdout",
     "output_type": "stream",
     "text": [
      "New pin created: \n"
     ]
    },
    {
     "name": "stdin",
     "output_type": "stream",
     "text": [
      "\n",
      "        1. Press 1 for check balance\n",
      "        2. Press 2 for withdraw\n",
      "        3. Press 3 for deposit\n",
      "        4. Press 4 for creating pin\n",
      "        5. Press 5 for exit\n",
      "         5\n"
     ]
    },
    {
     "name": "stdout",
     "output_type": "stream",
     "text": [
      "Bye\n"
     ]
    }
   ],
   "source": [
    "hdfc = ATM()"
   ]
  },
  {
   "cell_type": "code",
   "execution_count": 154,
   "id": "cb165dbd-b329-4440-bfa5-f3897a1322ba",
   "metadata": {},
   "outputs": [
    {
     "name": "stdin",
     "output_type": "stream",
     "text": [
      "\n",
      "        1. Press 1 for check balance\n",
      "        2. Press 2 for withdraw\n",
      "        3. Press 3 for deposit\n",
      "        4. Press 4 for creating pin\n",
      "        5. Press 5 for exit\n",
      "         4\n",
      "Enter new pin:  2405\n"
     ]
    },
    {
     "name": "stdout",
     "output_type": "stream",
     "text": [
      "New pin created: \n"
     ]
    },
    {
     "name": "stdin",
     "output_type": "stream",
     "text": [
      "\n",
      "        1. Press 1 for check balance\n",
      "        2. Press 2 for withdraw\n",
      "        3. Press 3 for deposit\n",
      "        4. Press 4 for creating pin\n",
      "        5. Press 5 for exit\n",
      "         5\n"
     ]
    },
    {
     "name": "stdout",
     "output_type": "stream",
     "text": [
      "Bye\n"
     ]
    }
   ],
   "source": [
    "pnb = ATM()"
   ]
  },
  {
   "cell_type": "code",
   "execution_count": 156,
   "id": "80579880-945e-41f8-a38a-5ae2199aafc8",
   "metadata": {},
   "outputs": [
    {
     "data": {
      "text/plain": [
       "1"
      ]
     },
     "execution_count": 156,
     "metadata": {},
     "output_type": "execute_result"
    }
   ],
   "source": [
    "icici.sno"
   ]
  },
  {
   "cell_type": "code",
   "execution_count": 157,
   "id": "3d4c24cc-d9f3-4a38-b78e-b54b03cea1dc",
   "metadata": {},
   "outputs": [
    {
     "data": {
      "text/plain": [
       "2"
      ]
     },
     "execution_count": 157,
     "metadata": {},
     "output_type": "execute_result"
    }
   ],
   "source": [
    "hdfc.sno"
   ]
  },
  {
   "cell_type": "code",
   "execution_count": 158,
   "id": "14e3b213-f3f1-4973-94b3-89255b29a92b",
   "metadata": {},
   "outputs": [
    {
     "data": {
      "text/plain": [
       "3"
      ]
     },
     "execution_count": 158,
     "metadata": {},
     "output_type": "execute_result"
    }
   ],
   "source": [
    "pnb.sno"
   ]
  },
  {
   "cell_type": "code",
   "execution_count": 159,
   "id": "eed4ebaf-4d32-4220-80cc-bc19cb7d76bd",
   "metadata": {},
   "outputs": [
    {
     "name": "stdout",
     "output_type": "stream",
     "text": [
      "4\n",
      "4\n",
      "4\n"
     ]
    }
   ],
   "source": [
    "print(icici.counter)\n",
    "print(hdfc.counter)\n",
    "print(pnb.counter)"
   ]
  },
  {
   "cell_type": "code",
   "execution_count": 160,
   "id": "0bb83076-866b-480c-a8cf-c388a114823d",
   "metadata": {},
   "outputs": [
    {
     "data": {
      "text/plain": [
       "4"
      ]
     },
     "execution_count": 160,
     "metadata": {},
     "output_type": "execute_result"
    }
   ],
   "source": [
    "ATM.counter"
   ]
  },
  {
   "cell_type": "code",
   "execution_count": 169,
   "id": "0bebe436-5a83-4d2f-94ef-a06f5c02c987",
   "metadata": {},
   "outputs": [
    {
     "name": "stdin",
     "output_type": "stream",
     "text": [
      "\n",
      "        1. Press 1 for check balance\n",
      "        2. Press 2 for withdraw\n",
      "        3. Press 3 for deposit\n",
      "        4. Press 4 for creating pin\n",
      "        5. Press 5 for exit\n",
      "         4\n",
      "Enter new pin:  5240\n"
     ]
    },
    {
     "name": "stdout",
     "output_type": "stream",
     "text": [
      "New pin created: \n"
     ]
    },
    {
     "name": "stdin",
     "output_type": "stream",
     "text": [
      "\n",
      "        1. Press 1 for check balance\n",
      "        2. Press 2 for withdraw\n",
      "        3. Press 3 for deposit\n",
      "        4. Press 4 for creating pin\n",
      "        5. Press 5 for exit\n",
      "         5\n"
     ]
    },
    {
     "name": "stdout",
     "output_type": "stream",
     "text": [
      "Bye\n"
     ]
    }
   ],
   "source": [
    "yes = ATM()"
   ]
  },
  {
   "cell_type": "code",
   "execution_count": 170,
   "id": "940425c1-a646-49f4-a3d6-a0f367e5e312",
   "metadata": {},
   "outputs": [
    {
     "data": {
      "text/plain": [
       "2"
      ]
     },
     "execution_count": 170,
     "metadata": {},
     "output_type": "execute_result"
    }
   ],
   "source": [
    "yes.get_counter()"
   ]
  },
  {
   "cell_type": "code",
   "execution_count": 171,
   "id": "f0b62b73-79ec-4f80-8396-80813fba59dc",
   "metadata": {},
   "outputs": [],
   "source": [
    "yes.set_counter(10)"
   ]
  },
  {
   "cell_type": "code",
   "execution_count": 172,
   "id": "d0463a47-e10d-4ca0-8e6a-6e6b0f6f1075",
   "metadata": {},
   "outputs": [
    {
     "data": {
      "text/plain": [
       "10"
      ]
     },
     "execution_count": 172,
     "metadata": {},
     "output_type": "execute_result"
    }
   ],
   "source": [
    "yes.get_counter()"
   ]
  },
  {
   "cell_type": "code",
   "execution_count": null,
   "id": "9e1f0b5d-a252-4d97-a497-146e3ea5635c",
   "metadata": {},
   "outputs": [],
   "source": []
  }
 ],
 "metadata": {
  "kernelspec": {
   "display_name": "Python 3 (ipykernel)",
   "language": "python",
   "name": "python3"
  },
  "language_info": {
   "codemirror_mode": {
    "name": "ipython",
    "version": 3
   },
   "file_extension": ".py",
   "mimetype": "text/x-python",
   "name": "python",
   "nbconvert_exporter": "python",
   "pygments_lexer": "ipython3",
   "version": "3.9.7"
  }
 },
 "nbformat": 4,
 "nbformat_minor": 5
}
