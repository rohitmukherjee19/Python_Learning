{
 "cells": [
  {
   "cell_type": "code",
   "execution_count": 2,
   "id": "03c1c2f8-80af-4557-af96-673d639082fd",
   "metadata": {},
   "outputs": [
    {
     "name": "stdout",
     "output_type": "stream",
     "text": [
      "1\n",
      "2\n",
      "3\n",
      "4\n",
      "5\n",
      "6\n",
      "7\n",
      "8\n",
      "9\n",
      "10\n"
     ]
    },
    {
     "data": {
      "text/plain": [
       "152"
      ]
     },
     "execution_count": 2,
     "metadata": {},
     "output_type": "execute_result"
    }
   ],
   "source": [
    "import sys\n",
    "\n",
    "L = [1,2,3,4,5,6,7,8,9,10]\n",
    "\n",
    "for i in L:\n",
    "    print(i)\n",
    "    \n",
    "sys.getsizeof(L)"
   ]
  },
  {
   "cell_type": "code",
   "execution_count": 3,
   "id": "b3636df3-6acf-4a1e-8304-35696587e998",
   "metadata": {},
   "outputs": [
    {
     "name": "stdout",
     "output_type": "stream",
     "text": [
      "1\n",
      "2\n",
      "3\n",
      "4\n",
      "5\n",
      "6\n",
      "7\n",
      "8\n",
      "9\n"
     ]
    },
    {
     "data": {
      "text/plain": [
       "48"
      ]
     },
     "execution_count": 3,
     "metadata": {},
     "output_type": "execute_result"
    }
   ],
   "source": [
    "r = range(1,10)\n",
    "\n",
    "for i in r:\n",
    "    print(i)\n",
    "    \n",
    "sys.getsizeof(r)"
   ]
  },
  {
   "cell_type": "code",
   "execution_count": 5,
   "id": "a428b6fb-9f95-4dc0-b2ef-6097630126d2",
   "metadata": {},
   "outputs": [
    {
     "data": {
      "text/plain": [
       "['__class__',\n",
       " '__delattr__',\n",
       " '__dir__',\n",
       " '__doc__',\n",
       " '__eq__',\n",
       " '__format__',\n",
       " '__ge__',\n",
       " '__getattribute__',\n",
       " '__gt__',\n",
       " '__hash__',\n",
       " '__init__',\n",
       " '__init_subclass__',\n",
       " '__iter__',\n",
       " '__le__',\n",
       " '__length_hint__',\n",
       " '__lt__',\n",
       " '__ne__',\n",
       " '__new__',\n",
       " '__next__',\n",
       " '__reduce__',\n",
       " '__reduce_ex__',\n",
       " '__repr__',\n",
       " '__setattr__',\n",
       " '__setstate__',\n",
       " '__sizeof__',\n",
       " '__str__',\n",
       " '__subclasshook__']"
      ]
     },
     "execution_count": 5,
     "metadata": {},
     "output_type": "execute_result"
    }
   ],
   "source": [
    "dir(L)\n",
    "dir(iter(L))"
   ]
  },
  {
   "cell_type": "code",
   "execution_count": 6,
   "id": "bb611466-ef4d-4929-bb91-4be8ac64b159",
   "metadata": {},
   "outputs": [
    {
     "name": "stdout",
     "output_type": "stream",
     "text": [
      "1\n",
      "4\n",
      "9\n",
      "16\n",
      "25\n",
      "36\n",
      "49\n",
      "64\n",
      "81\n",
      "100\n"
     ]
    },
    {
     "data": {
      "text/plain": [
       "48"
      ]
     },
     "execution_count": 6,
     "metadata": {},
     "output_type": "execute_result"
    }
   ],
   "source": [
    "L = [1,2,3,4,5,6,7,8,9,10]\n",
    "l = iter(L)\n",
    "for i in l:\n",
    "    print(i**2)\n",
    "    \n",
    "sys.getsizeof(l)"
   ]
  },
  {
   "cell_type": "code",
   "execution_count": 11,
   "id": "94bb9b04-98a9-441a-a079-129e1263c53c",
   "metadata": {},
   "outputs": [
    {
     "ename": "<class 'StopIteration'>",
     "evalue": "",
     "output_type": "error",
     "traceback": [
      "\u001b[1;31m---------------------------------------------------------------------------\u001b[0m",
      "\u001b[1;31mStopIteration\u001b[0m                             Traceback (most recent call last)",
      "Input \u001b[1;32mIn [11]\u001b[0m, in \u001b[0;36m<cell line: 8>\u001b[1;34m()\u001b[0m\n\u001b[0;32m      6\u001b[0m \u001b[38;5;28mnext\u001b[39m(num_iter)\n\u001b[0;32m      7\u001b[0m \u001b[38;5;28mnext\u001b[39m(num_iter)\n\u001b[1;32m----> 8\u001b[0m \u001b[38;5;28mnext\u001b[39m(num_iter)\n",
      "\u001b[1;31mStopIteration\u001b[0m: "
     ]
    }
   ],
   "source": [
    "num = [4,5,6]\n",
    "\n",
    "num_iter = iter(num)\n",
    "\n",
    "next(num_iter)\n",
    "next(num_iter)\n",
    "next(num_iter)\n",
    "next(num_iter)"
   ]
  },
  {
   "cell_type": "code",
   "execution_count": 12,
   "id": "d648933d-4222-4e7b-9b33-234f6c36193f",
   "metadata": {},
   "outputs": [],
   "source": [
    "def my_own_for(iterable):\n",
    "    \n",
    "    iteration = iter(iterable)\n",
    "    \n",
    "    while True:\n",
    "        try:\n",
    "            print(next(iteration))\n",
    "        except StopIteration:\n",
    "            break"
   ]
  },
  {
   "cell_type": "code",
   "execution_count": 14,
   "id": "6f0db73a-64f7-4366-bcd1-c8a4763345f3",
   "metadata": {},
   "outputs": [],
   "source": [
    "L = [5,2,6]\n",
    "d = {'a':5, 'b': 6, 'c': 9}\n",
    "s = (5,6,8)"
   ]
  },
  {
   "cell_type": "code",
   "execution_count": 17,
   "id": "1ee0070b-0673-41b5-95f8-cc283c891552",
   "metadata": {},
   "outputs": [
    {
     "name": "stdout",
     "output_type": "stream",
     "text": [
      "5\n",
      "6\n",
      "8\n"
     ]
    }
   ],
   "source": [
    "my_own_for(s)"
   ]
  },
  {
   "cell_type": "code",
   "execution_count": null,
   "id": "4f294fa6-c582-42de-8754-226b9f9e2483",
   "metadata": {},
   "outputs": [],
   "source": []
  }
 ],
 "metadata": {
  "kernelspec": {
   "display_name": "Python 3.9 (XPython)",
   "language": "python",
   "name": "xpython"
  },
  "language_info": {
   "file_extension": ".py",
   "mimetype": "text/x-python",
   "name": "python",
   "version": "3.9.12"
  }
 },
 "nbformat": 4,
 "nbformat_minor": 5
}
