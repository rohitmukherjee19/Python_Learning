{
 "cells": [
  {
   "cell_type": "markdown",
   "id": "bf9c743e-a1a2-4660-ba09-bb81a0cec464",
   "metadata": {},
   "source": [
    "## Lambda Function"
   ]
  },
  {
   "cell_type": "code",
   "execution_count": 4,
   "id": "f650633e-7536-4fe6-babc-a8e3b882e1e4",
   "metadata": {},
   "outputs": [
    {
     "name": "stdout",
     "output_type": "stream",
     "text": [
      "1\n",
      "25\n",
      "16\n",
      "49\n",
      "4\n",
      "9\n"
     ]
    }
   ],
   "source": [
    "mylist = [1,5,4,7,2,3]\n",
    "\n",
    "def square(x):\n",
    "    for i in x:\n",
    "        print(i**2)\n",
    "        \n",
    "square(mylist)"
   ]
  },
  {
   "cell_type": "code",
   "execution_count": 21,
   "id": "8382ecb2-04c3-4aec-b9f7-13209ad4526a",
   "metadata": {},
   "outputs": [
    {
     "data": {
      "text/plain": [
       "[1, 4, 9, 16, 25, 49]"
      ]
     },
     "execution_count": 21,
     "metadata": {},
     "output_type": "execute_result"
    }
   ],
   "source": [
    "mylist = [1,5,4,7,2,3]\n",
    "sorted(map(lambda x: x**2, mylist))"
   ]
  },
  {
   "cell_type": "code",
   "execution_count": 18,
   "id": "b68bc4e8-a632-452d-beb9-da53466094cc",
   "metadata": {},
   "outputs": [
    {
     "data": {
      "text/plain": [
       "[4, 5, 7]"
      ]
     },
     "execution_count": 18,
     "metadata": {},
     "output_type": "execute_result"
    }
   ],
   "source": [
    "mylist = [1,5,4,7,2,3]\n",
    "sorted(filter(lambda x: x > 3, mylist))"
   ]
  },
  {
   "cell_type": "code",
   "execution_count": 43,
   "id": "2f48a51e-bcae-4d8c-9a35-0241f94ca913",
   "metadata": {},
   "outputs": [
    {
     "name": "stdout",
     "output_type": "stream",
     "text": [
      "Sum of even integers are: 254\n",
      "Sum of odd integers are: 218\n",
      "Sum of integers divisible by 3 are: 105\n"
     ]
    }
   ],
   "source": [
    "L = [23,11,42,36,27,80,19,34,62,43,95]\n",
    "\n",
    "print(\"Sum of even integers are: {}\".format(sum(list(filter(lambda x : x%2 == 0, L)))))\n",
    "print(\"Sum of odd integers are: {}\".format(sum(list(filter(lambda x : x%2 != 0, L)))))\n",
    "print(\"Sum of integers divisible by 3 are: {}\".format(sum(list(filter(lambda x : x%3 == 0, L)))))"
   ]
  },
  {
   "cell_type": "code",
   "execution_count": 49,
   "id": "7ad789b6-9011-453c-b977-ea5efa560fd6",
   "metadata": {},
   "outputs": [
    {
     "name": "stdout",
     "output_type": "stream",
     "text": [
      "Sum of even integers are: 254\n",
      "Sum of odd integers are: 218\n",
      "Sum of integers divisible by 3 are: 105\n"
     ]
    }
   ],
   "source": [
    "#Alternatively\n",
    "L = [23,11,42,36,27,80,19,34,62,43,95]\n",
    "\n",
    "print(\"Sum of even integers are: {}\".format(sum([i for i in L if i%2 == 0])))\n",
    "print(\"Sum of odd integers are: {}\".format(sum([i for i in L if i%2 != 0])))\n",
    "print(\"Sum of integers divisible by 3 are: {}\".format(sum([i for i in L if i%3 == 0])))"
   ]
  },
  {
   "cell_type": "code",
   "execution_count": 54,
   "id": "e413e8ad-e6a0-4c45-832b-c1ffccf36466",
   "metadata": {},
   "outputs": [
    {
     "name": "stdout",
     "output_type": "stream",
     "text": [
      "['Apple', 'Orange', 'Strawberry', 'Pinapple', 'Watermelon']\n"
     ]
    },
    {
     "data": {
      "text/plain": [
       "['Apple', 'Orange', 'Strawberry', 'Pinapple', 'Watermelon']"
      ]
     },
     "execution_count": 54,
     "metadata": {},
     "output_type": "execute_result"
    }
   ],
   "source": [
    "fruits = ['Apple', 'Mango', 'Orange', 'Strawberry', 'Pinapple', 'Watermelon', 'Lichi']\n",
    "\n",
    "#Using lambda function\n",
    "print(list(filter(lambda x: 'e' in x, fruits)))\n",
    "\n",
    "#Alternatively using list comprehension\n",
    "[fruit for fruit in fruits if 'e' in fruit]"
   ]
  },
  {
   "cell_type": "code",
   "execution_count": 58,
   "id": "51c94998-0111-46c7-af77-b1a67e959a05",
   "metadata": {},
   "outputs": [
    {
     "data": {
      "text/plain": [
       "100"
      ]
     },
     "execution_count": 58,
     "metadata": {},
     "output_type": "execute_result"
    }
   ],
   "source": [
    "#Sum of odd numbers upto 20\n",
    "\n",
    "sum([i for i in range(20) if i%2!=0])"
   ]
  },
  {
   "cell_type": "markdown",
   "id": "6de61156-f1a0-4739-81af-d20ae8830e37",
   "metadata": {},
   "source": [
    "### Reduce function"
   ]
  },
  {
   "cell_type": "code",
   "execution_count": 60,
   "id": "50c0d65a-c501-473a-9b45-0fc1f736bb9d",
   "metadata": {},
   "outputs": [],
   "source": [
    "import functools"
   ]
  },
  {
   "cell_type": "code",
   "execution_count": 63,
   "id": "9c8498ba-ac9e-4e6e-9c33-86da50dfbb36",
   "metadata": {},
   "outputs": [
    {
     "name": "stdout",
     "output_type": "stream",
     "text": [
      "Maximum no.: 95\n",
      "Minimum no.: 11\n"
     ]
    }
   ],
   "source": [
    "L = [23,11,42,36,27,80,19,34,62,43,95]\n",
    "\n",
    "print(\"Maximum no.: {}\".format(functools.reduce(lambda x,y : x if x>y else y, L)))\n",
    "print(\"Minimum no.: {}\".format(functools.reduce(lambda x,y : x if x<y else y, L)))"
   ]
  },
  {
   "cell_type": "code",
   "execution_count": 72,
   "id": "63d18c84-48ef-4cdf-b960-32a028b567aa",
   "metadata": {},
   "outputs": [],
   "source": [
    "sum1 = lambda x : x + 15"
   ]
  },
  {
   "cell_type": "code",
   "execution_count": 73,
   "id": "9410c09d-5203-480e-8abf-7f5a00d6689f",
   "metadata": {},
   "outputs": [
    {
     "data": {
      "text/plain": [
       "77"
      ]
     },
     "execution_count": 73,
     "metadata": {},
     "output_type": "execute_result"
    }
   ],
   "source": [
    "sum1(62)"
   ]
  },
  {
   "cell_type": "code",
   "execution_count": 74,
   "id": "19ae7ca2-eff2-40c3-8a2c-83f5d5658766",
   "metadata": {},
   "outputs": [],
   "source": [
    "mul1 = lambda x,y: x*y"
   ]
  },
  {
   "cell_type": "code",
   "execution_count": 75,
   "id": "fe53e1ae-931a-49cf-b688-bcb8fafb41b1",
   "metadata": {},
   "outputs": [
    {
     "data": {
      "text/plain": [
       "40"
      ]
     },
     "execution_count": 75,
     "metadata": {},
     "output_type": "execute_result"
    }
   ],
   "source": [
    "mul1(5,8)"
   ]
  },
  {
   "cell_type": "code",
   "execution_count": 77,
   "id": "32681d02-5285-4ead-bc14-497a0d7726de",
   "metadata": {},
   "outputs": [
    {
     "name": "stdin",
     "output_type": "stream",
     "text": [
      "Enter the first_term 5\n",
      "Enter the common_diff 6\n",
      "Enter the no. of terms 12\n"
     ]
    },
    {
     "name": "stdout",
     "output_type": "stream",
     "text": [
      "Last term is : 71\n"
     ]
    }
   ],
   "source": [
    "#Find the nth term of an AP\n",
    "a = int(input(\"Enter the first_term\"))\n",
    "d = int(input(\"Enter the common_diff\"))\n",
    "n = int(input(\"Enter the no. of terms\"))\n",
    "\n",
    "print(\"Last term is : {}\".format((lambda a,d,n : a + (n-1)*d)(a,d,n)))"
   ]
  },
  {
   "cell_type": "code",
   "execution_count": null,
   "id": "929651d3-a7ef-4fb3-9534-c1086410a023",
   "metadata": {},
   "outputs": [],
   "source": []
  }
 ],
 "metadata": {
  "kernelspec": {
   "display_name": "Python 3.9 (XPython)",
   "language": "python",
   "name": "xpython"
  },
  "language_info": {
   "file_extension": ".py",
   "mimetype": "text/x-python",
   "name": "python",
   "version": "3.9.12"
  }
 },
 "nbformat": 4,
 "nbformat_minor": 5
}
