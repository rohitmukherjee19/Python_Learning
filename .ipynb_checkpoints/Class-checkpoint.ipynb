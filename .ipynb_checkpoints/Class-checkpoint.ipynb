{
 "cells": [
  {
   "cell_type": "code",
   "execution_count": 1,
   "id": "084c265f-d5c4-4779-8abc-fe34e0c27ea2",
   "metadata": {},
   "outputs": [
    {
     "data": {
      "text/plain": [
       "str"
      ]
     },
     "execution_count": 1,
     "metadata": {},
     "output_type": "execute_result"
    }
   ],
   "source": [
    "a = 'Rohit'\n",
    "type(a)"
   ]
  },
  {
   "cell_type": "code",
   "execution_count": 2,
   "id": "bdac0c7c-9f60-42e0-9dc7-28428205df49",
   "metadata": {},
   "outputs": [
    {
     "data": {
      "text/plain": [
       "''"
      ]
     },
     "execution_count": 2,
     "metadata": {},
     "output_type": "execute_result"
    }
   ],
   "source": [
    "a = str()\n",
    "a"
   ]
  },
  {
   "cell_type": "code",
   "execution_count": 3,
   "id": "452016b1-4242-4e0f-83d1-ce68ef6188d1",
   "metadata": {},
   "outputs": [
    {
     "data": {
      "text/plain": [
       "'Rohit'"
      ]
     },
     "execution_count": 3,
     "metadata": {},
     "output_type": "execute_result"
    }
   ],
   "source": [
    "a = str('Rohit')\n",
    "a"
   ]
  },
  {
   "cell_type": "code",
   "execution_count": 4,
   "id": "c6012912-786c-478b-95db-715a188e81ab",
   "metadata": {},
   "outputs": [
    {
     "data": {
      "text/plain": [
       "[]"
      ]
     },
     "execution_count": 4,
     "metadata": {},
     "output_type": "execute_result"
    }
   ],
   "source": [
    "L = list()\n",
    "L"
   ]
  },
  {
   "cell_type": "code",
   "execution_count": 5,
   "id": "0949ec25-7e9e-4303-929f-4832e12f714c",
   "metadata": {},
   "outputs": [
    {
     "data": {
      "text/plain": [
       "[5, 4, 2, 6, 8, 'Rahul', {'a': 85}]"
      ]
     },
     "execution_count": 5,
     "metadata": {},
     "output_type": "execute_result"
    }
   ],
   "source": [
    "L = list([5,4,2,6,8,'Rahul', {'a': 85}])\n",
    "L"
   ]
  },
  {
   "cell_type": "markdown",
   "id": "c7c72bac-ef98-48ec-beb4-663e71bed0a5",
   "metadata": {},
   "source": [
    "## Contruction of a Class"
   ]
  },
  {
   "cell_type": "code",
   "execution_count": 6,
   "id": "9983d925-215c-4dbe-a401-0e8b3f03de5e",
   "metadata": {},
   "outputs": [],
   "source": [
    "class Bank:\n",
    "    def __init__(self):\n",
    "        print(\"Test\")\n",
    "        pass"
   ]
  },
  {
   "cell_type": "code",
   "execution_count": 7,
   "id": "ef1c0695-9914-4943-8469-2dcfa0a0078d",
   "metadata": {},
   "outputs": [
    {
     "name": "stdout",
     "output_type": "stream",
     "text": [
      "Test\n"
     ]
    },
    {
     "data": {
      "text/plain": [
       "<__main__.Bank at 0x2b88f519a90>"
      ]
     },
     "execution_count": 7,
     "metadata": {},
     "output_type": "execute_result"
    }
   ],
   "source": [
    "money = Bank()\n",
    "money"
   ]
  },
  {
   "cell_type": "code",
   "execution_count": 8,
   "id": "fdc38964-25e9-44cf-9773-c45d8ebfadea",
   "metadata": {},
   "outputs": [],
   "source": [
    "class ATM:\n",
    "    def __init__(self):\n",
    "        self.__pin = ''\n",
    "        self.__balance = 0\n",
    "        \n",
    "        self.menu()\n",
    "        \n",
    "    def menu(self):\n",
    "        cust_input = input(\"\"\"\n",
    "        1. Press 1 for check balance\n",
    "        2. Press 2 for withdraw\n",
    "        3. Press 3 for deposit\n",
    "        4. Press 4 for creating pin\n",
    "        5. Press 5 for exit\n",
    "        \"\"\")\n",
    "        \n",
    "        if cust_input == '1':\n",
    "            self.check_bal()\n",
    "        elif cust_input == '2':\n",
    "            self.withdraw()\n",
    "        elif cust_input == '3':\n",
    "            self.deposit()\n",
    "        elif cust_input == '4':\n",
    "            self.pin_create()\n",
    "        elif cust_input == '5':\n",
    "            self.exit()\n",
    "            \n",
    "    def check_bal(self):\n",
    "        pin = input(\"Enter your pin: \")\n",
    "        if pin == self.__pin:\n",
    "            print(\"Your balance is : {}\".format(self.__balance))\n",
    "        else:\n",
    "            print(\"Wrong Pin\")\n",
    "        \n",
    "        self.menu()\n",
    "        \n",
    "    def withdraw(self):\n",
    "        amount = input(\"Withdrawal Amount: \")\n",
    "        temp = input(\"Enter pin: \")\n",
    "        if temp == self.__pin:\n",
    "            if float(amount) > self.__balance:\n",
    "                print(\"Withdrawal not possible as balance is low\")\n",
    "            else:\n",
    "                self.__balance -= float(amount)\n",
    "                print(\"Amount Withdrawn Successful\")\n",
    "        else:\n",
    "            print(\"Pin not correct\")\n",
    "            \n",
    "        self.menu()\n",
    "            \n",
    "    def deposit(self):\n",
    "        dep_amnt = float(input(\"Amount to be deposited: \"))\n",
    "        pin = input(\"Enter pin\")\n",
    "        if pin == self.__pin:\n",
    "            self.__balance += dep_amnt\n",
    "            print('Amount Deposited successful')\n",
    "        else:\n",
    "            print(\"Wrong Pin\")\n",
    "            \n",
    "        self.menu()\n",
    "        \n",
    "    def pin_create(self):\n",
    "        self.__pin = input(\"Enter new pin: \")\n",
    "        print(\"New pin created: \")\n",
    "        \n",
    "        self.menu()\n",
    "        \n",
    "    def exit(self):\n",
    "        print(\"Bye\")\n",
    "        pass"
   ]
  },
  {
   "cell_type": "code",
   "execution_count": 9,
   "id": "8bd5fc3e-3c28-4b44-911b-9b32408a955e",
   "metadata": {},
   "outputs": [
    {
     "name": "stdin",
     "output_type": "stream",
     "text": [
      "\n",
      "        1. Press 1 for check balance\n",
      "        2. Press 2 for withdraw\n",
      "        3. Press 3 for deposit\n",
      "        4. Press 4 for creating pin\n",
      "        5. Press 5 for exit\n",
      "         4\n",
      "Enter new pin:  9874\n"
     ]
    },
    {
     "name": "stdout",
     "output_type": "stream",
     "text": [
      "New pin created: \n"
     ]
    },
    {
     "name": "stdin",
     "output_type": "stream",
     "text": [
      "\n",
      "        1. Press 1 for check balance\n",
      "        2. Press 2 for withdraw\n",
      "        3. Press 3 for deposit\n",
      "        4. Press 4 for creating pin\n",
      "        5. Press 5 for exit\n",
      "         1\n",
      "Enter your pin:  9874\n"
     ]
    },
    {
     "name": "stdout",
     "output_type": "stream",
     "text": [
      "Your balance is : 0\n"
     ]
    },
    {
     "name": "stdin",
     "output_type": "stream",
     "text": [
      "\n",
      "        1. Press 1 for check balance\n",
      "        2. Press 2 for withdraw\n",
      "        3. Press 3 for deposit\n",
      "        4. Press 4 for creating pin\n",
      "        5. Press 5 for exit\n",
      "         3\n",
      "Amount to be deposited:  5000\n",
      "Enter pin 9874\n"
     ]
    },
    {
     "name": "stdout",
     "output_type": "stream",
     "text": [
      "Amount Deposited successful\n"
     ]
    },
    {
     "name": "stdin",
     "output_type": "stream",
     "text": [
      "\n",
      "        1. Press 1 for check balance\n",
      "        2. Press 2 for withdraw\n",
      "        3. Press 3 for deposit\n",
      "        4. Press 4 for creating pin\n",
      "        5. Press 5 for exit\n",
      "         2\n",
      "Withdrawal Amount:  2000\n",
      "Enter pin:  9874\n"
     ]
    },
    {
     "name": "stdout",
     "output_type": "stream",
     "text": [
      "Amount Withdrawn Successful\n"
     ]
    },
    {
     "name": "stdin",
     "output_type": "stream",
     "text": [
      "\n",
      "        1. Press 1 for check balance\n",
      "        2. Press 2 for withdraw\n",
      "        3. Press 3 for deposit\n",
      "        4. Press 4 for creating pin\n",
      "        5. Press 5 for exit\n",
      "         1\n",
      "Enter your pin:  9874\n"
     ]
    },
    {
     "name": "stdout",
     "output_type": "stream",
     "text": [
      "Your balance is : 3000.0\n"
     ]
    },
    {
     "name": "stdin",
     "output_type": "stream",
     "text": [
      "\n",
      "        1. Press 1 for check balance\n",
      "        2. Press 2 for withdraw\n",
      "        3. Press 3 for deposit\n",
      "        4. Press 4 for creating pin\n",
      "        5. Press 5 for exit\n",
      "         5\n"
     ]
    },
    {
     "name": "stdout",
     "output_type": "stream",
     "text": [
      "Bye\n"
     ]
    }
   ],
   "source": [
    "pnb = ATM()"
   ]
  },
  {
   "cell_type": "code",
   "execution_count": 64,
   "id": "4b9810f6-3ba6-44db-b930-2102b00a06e9",
   "metadata": {},
   "outputs": [
    {
     "name": "stdin",
     "output_type": "stream",
     "text": [
      "\n",
      "        1. Press 1 for check balance\n",
      "        2. Press 2 for withdraw\n",
      "        3. Press 3 for deposit\n",
      "        4. Press 4 for creating pin\n",
      "        5. Press 5 for exit\n",
      "         2\n",
      "Withdrawal Amount:  9999\n",
      "Enter pin:  2486\n"
     ]
    },
    {
     "name": "stdout",
     "output_type": "stream",
     "text": [
      "Pin not correct\n"
     ]
    },
    {
     "name": "stdin",
     "output_type": "stream",
     "text": [
      "\n",
      "        1. Press 1 for check balance\n",
      "        2. Press 2 for withdraw\n",
      "        3. Press 3 for deposit\n",
      "        4. Press 4 for creating pin\n",
      "        5. Press 5 for exit\n",
      "         4\n",
      "Enter new pin:  2486\n"
     ]
    },
    {
     "name": "stdout",
     "output_type": "stream",
     "text": [
      "New pin created: \n"
     ]
    },
    {
     "name": "stdin",
     "output_type": "stream",
     "text": [
      "\n",
      "        1. Press 1 for check balance\n",
      "        2. Press 2 for withdraw\n",
      "        3. Press 3 for deposit\n",
      "        4. Press 4 for creating pin\n",
      "        5. Press 5 for exit\n",
      "         1\n",
      "Enter your pin:  2486\n"
     ]
    },
    {
     "name": "stdout",
     "output_type": "stream",
     "text": [
      "Your balance is : 0\n"
     ]
    },
    {
     "name": "stdin",
     "output_type": "stream",
     "text": [
      "\n",
      "        1. Press 1 for check balance\n",
      "        2. Press 2 for withdraw\n",
      "        3. Press 3 for deposit\n",
      "        4. Press 4 for creating pin\n",
      "        5. Press 5 for exit\n",
      "         3\n",
      "Amount to be deposited:  5000\n",
      "Enter pin 2486\n"
     ]
    },
    {
     "name": "stdout",
     "output_type": "stream",
     "text": [
      "Amount Deposited successful\n"
     ]
    },
    {
     "name": "stdin",
     "output_type": "stream",
     "text": [
      "\n",
      "        1. Press 1 for check balance\n",
      "        2. Press 2 for withdraw\n",
      "        3. Press 3 for deposit\n",
      "        4. Press 4 for creating pin\n",
      "        5. Press 5 for exit\n",
      "         1\n",
      "Enter your pin:  9874\n"
     ]
    },
    {
     "name": "stdout",
     "output_type": "stream",
     "text": [
      "Wrong Pin\n"
     ]
    },
    {
     "name": "stdin",
     "output_type": "stream",
     "text": [
      "\n",
      "        1. Press 1 for check balance\n",
      "        2. Press 2 for withdraw\n",
      "        3. Press 3 for deposit\n",
      "        4. Press 4 for creating pin\n",
      "        5. Press 5 for exit\n",
      "         1\n",
      "Enter your pin:  2486\n"
     ]
    },
    {
     "name": "stdout",
     "output_type": "stream",
     "text": [
      "Your balance is : 5000.0\n"
     ]
    },
    {
     "name": "stdin",
     "output_type": "stream",
     "text": [
      "\n",
      "        1. Press 1 for check balance\n",
      "        2. Press 2 for withdraw\n",
      "        3. Press 3 for deposit\n",
      "        4. Press 4 for creating pin\n",
      "        5. Press 5 for exit\n",
      "         2\n",
      "Withdrawal Amount:  500\n",
      "Enter pin:  2486\n"
     ]
    },
    {
     "name": "stdout",
     "output_type": "stream",
     "text": [
      "Amount Withdrawn Successful\n"
     ]
    },
    {
     "name": "stdin",
     "output_type": "stream",
     "text": [
      "\n",
      "        1. Press 1 for check balance\n",
      "        2. Press 2 for withdraw\n",
      "        3. Press 3 for deposit\n",
      "        4. Press 4 for creating pin\n",
      "        5. Press 5 for exit\n",
      "         1\n",
      "Enter your pin:  2486\n"
     ]
    },
    {
     "name": "stdout",
     "output_type": "stream",
     "text": [
      "Your balance is : 4500.0\n"
     ]
    },
    {
     "name": "stdin",
     "output_type": "stream",
     "text": [
      "\n",
      "        1. Press 1 for check balance\n",
      "        2. Press 2 for withdraw\n",
      "        3. Press 3 for deposit\n",
      "        4. Press 4 for creating pin\n",
      "        5. Press 5 for exit\n",
      "         5\n"
     ]
    },
    {
     "name": "stdout",
     "output_type": "stream",
     "text": [
      "Bye\n"
     ]
    }
   ],
   "source": [
    "hdfc = ATM()"
   ]
  },
  {
   "cell_type": "code",
   "execution_count": 49,
   "id": "1b7201de-8904-40d7-92bf-40d49e040127",
   "metadata": {},
   "outputs": [
    {
     "name": "stdin",
     "output_type": "stream",
     "text": [
      "Amount to be deposited 5000\n",
      "Enter pin 9874\n"
     ]
    },
    {
     "name": "stdout",
     "output_type": "stream",
     "text": [
      "Amount Deposited successful\n"
     ]
    }
   ],
   "source": [
    "pnb.deposit()"
   ]
  },
  {
   "cell_type": "code",
   "execution_count": 50,
   "id": "33d79956-5ea3-4f90-9bf9-f010cbe48111",
   "metadata": {},
   "outputs": [
    {
     "name": "stdin",
     "output_type": "stream",
     "text": [
      "Enter your pin 9874\n"
     ]
    },
    {
     "name": "stdout",
     "output_type": "stream",
     "text": [
      "Your balance is : 5000.0\n"
     ]
    }
   ],
   "source": [
    "pnb.check_bal()"
   ]
  },
  {
   "cell_type": "code",
   "execution_count": 51,
   "id": "3f80a218-a78e-47c3-9a7b-2bbfaeacbefb",
   "metadata": {},
   "outputs": [
    {
     "name": "stdin",
     "output_type": "stream",
     "text": [
      "Withdrawal Amount 2000\n",
      "Enter pin 9874\n"
     ]
    },
    {
     "name": "stdout",
     "output_type": "stream",
     "text": [
      "Amount Withdrawn Successful\n"
     ]
    }
   ],
   "source": [
    "pnb.withdraw()"
   ]
  },
  {
   "cell_type": "code",
   "execution_count": 52,
   "id": "d616e95a-995c-4d84-aa86-8507ce1cbf93",
   "metadata": {},
   "outputs": [
    {
     "name": "stdin",
     "output_type": "stream",
     "text": [
      "Enter your pin 9874\n"
     ]
    },
    {
     "name": "stdout",
     "output_type": "stream",
     "text": [
      "Your balance is : 3000.0\n"
     ]
    }
   ],
   "source": [
    "pnb.check_bal()"
   ]
  },
  {
   "cell_type": "code",
   "execution_count": 53,
   "id": "915aa28f-15f1-4548-bcc6-219e164091f0",
   "metadata": {},
   "outputs": [
    {
     "name": "stdout",
     "output_type": "stream",
     "text": [
      "Bye\n"
     ]
    }
   ],
   "source": [
    "pnb.exit()"
   ]
  },
  {
   "cell_type": "markdown",
   "id": "54cc7238-9bfa-48b1-994d-d84d0f3fafd9",
   "metadata": {},
   "source": [
    "## Class for dealing with fractions"
   ]
  },
  {
   "cell_type": "code",
   "execution_count": 10,
   "id": "2223858a-efeb-4719-82da-006583b8ce5d",
   "metadata": {},
   "outputs": [],
   "source": [
    "class Fraction:\n",
    "    \n",
    "    def __init__(self, n, d):\n",
    "        self.num = n\n",
    "        self.den = d\n",
    "        print(\"The fraction is {}/{}\".format(self.num, self.den))"
   ]
  },
  {
   "cell_type": "code",
   "execution_count": 11,
   "id": "6c163581-3edb-4862-a57b-f8387a2464f3",
   "metadata": {},
   "outputs": [
    {
     "name": "stdout",
     "output_type": "stream",
     "text": [
      "The fraction is 4/5\n",
      "The fraction is 2/3\n"
     ]
    }
   ],
   "source": [
    "num1 = Fraction(4,5)\n",
    "num2 = Fraction(2,3)"
   ]
  },
  {
   "cell_type": "code",
   "execution_count": 13,
   "id": "3811774c-4b5e-4a4b-bf37-b7409f26a9c4",
   "metadata": {},
   "outputs": [],
   "source": [
    "class Fraction:\n",
    "    \n",
    "    def __init__(self, n, d):\n",
    "        self.num = n\n",
    "        self.den = d\n",
    "        \n",
    "    def __str__(self):\n",
    "        return (\"The fraction is {}/{}:\".format(self.num, self.den))"
   ]
  },
  {
   "cell_type": "code",
   "execution_count": 14,
   "id": "48015ab1-ed87-481f-8607-1917187447a1",
   "metadata": {},
   "outputs": [],
   "source": [
    "num1 = Fraction(4,5)"
   ]
  },
  {
   "cell_type": "code",
   "execution_count": 15,
   "id": "ea45086c-b9bb-4d23-939b-b26bed9ab940",
   "metadata": {},
   "outputs": [
    {
     "name": "stdout",
     "output_type": "stream",
     "text": [
      "The fraction is 4/5:\n"
     ]
    }
   ],
   "source": [
    "print(num1)"
   ]
  },
  {
   "cell_type": "code",
   "execution_count": 16,
   "id": "caf67907-ef81-4f5a-8493-8e331e11fc27",
   "metadata": {},
   "outputs": [],
   "source": [
    "class Fraction:\n",
    "    \n",
    "    def __init__(self, n, d):\n",
    "        self.num = n\n",
    "        self.den = d\n",
    "        \n",
    "    def __str__(self):\n",
    "        return (\"The fraction is {}/{}:\".format(self.num, self.den))\n",
    "    \n",
    "    def __add__(self, other):\n",
    "        temp_num = self.num*other.den + self.den*other.den\n",
    "        temp_den = self.den*other.den\n",
    "        return (\"Result is : {}/{}\".format(temp_num, temp_den))"
   ]
  },
  {
   "cell_type": "code",
   "execution_count": 17,
   "id": "991bd743-e5d9-4ba4-bfad-718fb88771fe",
   "metadata": {},
   "outputs": [],
   "source": [
    "num1 = Fraction(2,3)\n",
    "num2 = Fraction(4,5)"
   ]
  },
  {
   "cell_type": "code",
   "execution_count": 18,
   "id": "f00d7bf8-24b8-4874-afdc-105889d7aaa7",
   "metadata": {},
   "outputs": [
    {
     "name": "stdout",
     "output_type": "stream",
     "text": [
      "The fraction is 2/3:\n"
     ]
    }
   ],
   "source": [
    "print(num1)"
   ]
  },
  {
   "cell_type": "code",
   "execution_count": 19,
   "id": "01bd3752-8df5-4f8b-bbff-89300bb8d50d",
   "metadata": {},
   "outputs": [
    {
     "name": "stdout",
     "output_type": "stream",
     "text": [
      "The fraction is 4/5:\n"
     ]
    }
   ],
   "source": [
    "print(num2)"
   ]
  },
  {
   "cell_type": "code",
   "execution_count": 20,
   "id": "f52368e6-b937-4329-8519-87f33e14a842",
   "metadata": {},
   "outputs": [
    {
     "name": "stdout",
     "output_type": "stream",
     "text": [
      "Result is : 25/15\n"
     ]
    }
   ],
   "source": [
    "print(num1+num2)"
   ]
  },
  {
   "cell_type": "code",
   "execution_count": 21,
   "id": "8e736483-9d3b-4077-a6a5-b19f29a8bd91",
   "metadata": {},
   "outputs": [],
   "source": [
    "class Fraction:\n",
    "    \n",
    "    def __init__(self, n, d):\n",
    "        self.num = n\n",
    "        self.den = d\n",
    "        \n",
    "    def __str__(self):\n",
    "        return (\"The fraction is {}/{}:\".format(self.num, self.den))\n",
    "    \n",
    "    def __add__(self, other):\n",
    "        temp_num = self.num*other.den + self.den*other.num\n",
    "        temp_den = self.den*other.den\n",
    "        return (\"Result is : {}/{}\".format(temp_num, temp_den))\n",
    "    \n",
    "    def __sub__(self, other):\n",
    "        temp_num = self.num*other.den - self.den*other.num\n",
    "        temp_den = self.den*other.den\n",
    "        return (\"Result is : {}/{}\".format(temp_num, temp_den))\n",
    "    \n",
    "    def __mul__(self, other):\n",
    "        temp_num = self.num*other.num\n",
    "        temp_den = self.den*other.den\n",
    "        return (\"Result is : {}/{}\".format(temp_num, temp_den))\n",
    "    \n",
    "    def __truediv__(self, other):\n",
    "        temp_num = self.num*other.den\n",
    "        temp_den = self.den*other.num\n",
    "        return (\"Result is : {}/{}\".format(temp_num, temp_den))"
   ]
  },
  {
   "cell_type": "code",
   "execution_count": 22,
   "id": "4abe66da-4100-41a0-97ad-a4d699d17293",
   "metadata": {},
   "outputs": [],
   "source": [
    "num1 = Fraction(2,3)\n",
    "num2 = Fraction(4,5)"
   ]
  },
  {
   "cell_type": "code",
   "execution_count": 23,
   "id": "3ea7e5c2-c35c-47d0-9446-114686e09bb2",
   "metadata": {},
   "outputs": [
    {
     "name": "stdout",
     "output_type": "stream",
     "text": [
      "The fraction is 2/3:\n"
     ]
    }
   ],
   "source": [
    "print(num1)"
   ]
  },
  {
   "cell_type": "code",
   "execution_count": 24,
   "id": "a3537cf0-bad4-4b6d-ab93-6b4b55682895",
   "metadata": {},
   "outputs": [
    {
     "name": "stdout",
     "output_type": "stream",
     "text": [
      "The fraction is 4/5:\n"
     ]
    }
   ],
   "source": [
    "print(num2)"
   ]
  },
  {
   "cell_type": "code",
   "execution_count": 25,
   "id": "98febdbc-8c7e-4770-a875-5c824397e212",
   "metadata": {},
   "outputs": [
    {
     "name": "stdout",
     "output_type": "stream",
     "text": [
      "Result is : 22/15\n"
     ]
    }
   ],
   "source": [
    "print(num1+num2)"
   ]
  },
  {
   "cell_type": "code",
   "execution_count": 26,
   "id": "7a82c0a2-abd1-4061-ab5e-c463f424426f",
   "metadata": {},
   "outputs": [
    {
     "name": "stdout",
     "output_type": "stream",
     "text": [
      "Result is : 8/15\n"
     ]
    }
   ],
   "source": [
    "print(num1*num2)"
   ]
  },
  {
   "cell_type": "code",
   "execution_count": 27,
   "id": "32b360b8-4138-497e-b2ae-b8d3b9aae4c2",
   "metadata": {},
   "outputs": [
    {
     "name": "stdout",
     "output_type": "stream",
     "text": [
      "Result is : -2/15\n"
     ]
    }
   ],
   "source": [
    "print(num1-num2)"
   ]
  },
  {
   "cell_type": "code",
   "execution_count": 28,
   "id": "d2781219-ddb0-40ef-bc82-8c53d3105e2b",
   "metadata": {},
   "outputs": [
    {
     "name": "stdout",
     "output_type": "stream",
     "text": [
      "Result is : 10/12\n"
     ]
    }
   ],
   "source": [
    "print(num1/num2)"
   ]
  },
  {
   "cell_type": "code",
   "execution_count": 133,
   "id": "2b03430d-953c-4f69-9638-3d760bf9eabd",
   "metadata": {},
   "outputs": [],
   "source": [
    "class ATM:\n",
    "    def __init__(self):\n",
    "        self.__pin = ''\n",
    "        self.__balance = 0\n",
    "        \n",
    "        self.menu()\n",
    "        \n",
    "    def menu(self):\n",
    "        cust_input = input(\"\"\"\n",
    "        1. Press 1 for check balance\n",
    "        2. Press 2 for withdraw\n",
    "        3. Press 3 for deposit\n",
    "        4. Press 4 for creating pin\n",
    "        5. Press 5 for exit\n",
    "        \"\"\")\n",
    "        \n",
    "        if cust_input == '1':\n",
    "            self.check_bal()\n",
    "        elif cust_input == '2':\n",
    "            self.withdraw()\n",
    "        elif cust_input == '3':\n",
    "            self.deposit()\n",
    "        elif cust_input == '4':\n",
    "            self.pin_create()\n",
    "        elif cust_input == '5':\n",
    "            self.exit()\n",
    "            \n",
    "    def get_pin(self):\n",
    "        print(\"Pin is {}\".format(self.__pin))\n",
    "        \n",
    "    def set_pin(self, new_pin):\n",
    "        self.__pin = str(new_pin)\n",
    "        print(\"Pin changed successful\")\n",
    "        \n",
    "    def check_bal(self):\n",
    "        pin = input(\"Enter your pin: \")\n",
    "        if pin == self.__pin:\n",
    "            print(\"Your balance is : {}\".format(self.__balance))\n",
    "        else:\n",
    "            print(\"Wrong Pin\")\n",
    "        \n",
    "        self.menu()\n",
    "        \n",
    "    def withdraw(self):\n",
    "        amount = input(\"Withdrawal Amount: \")\n",
    "        temp = input(\"Enter pin: \")\n",
    "        if temp == self.__pin:\n",
    "            if float(amount) > self.__balance:\n",
    "                print(\"Withdrawal not possible as balance is low\")\n",
    "            else:\n",
    "                self.__balance -= float(amount)\n",
    "                print(\"Amount Withdrawn Successful\")\n",
    "        else:\n",
    "            print(\"Pin not correct\")\n",
    "            \n",
    "        self.menu()\n",
    "            \n",
    "    def deposit(self):\n",
    "        dep_amnt = float(input(\"Amount to be deposited: \"))\n",
    "        pin = input(\"Enter pin\")\n",
    "        if pin == self.__pin:\n",
    "            self.__balance += dep_amnt\n",
    "            print('Amount Deposited successful')\n",
    "        else:\n",
    "            print(\"Wrong Pin\")\n",
    "            \n",
    "        self.menu()\n",
    "        \n",
    "    def pin_create(self):\n",
    "        self.__pin = input(\"Enter new pin: \")\n",
    "        print(\"New pin created: \")\n",
    "        \n",
    "        self.menu()\n",
    "        \n",
    "    def exit(self):\n",
    "        print(\"Bye\")\n",
    "        pass"
   ]
  },
  {
   "cell_type": "code",
   "execution_count": 135,
   "id": "83e7832a-e782-4786-b817-21b6bbb8938a",
   "metadata": {},
   "outputs": [
    {
     "name": "stdin",
     "output_type": "stream",
     "text": [
      "\n",
      "        1. Press 1 for check balance\n",
      "        2. Press 2 for withdraw\n",
      "        3. Press 3 for deposit\n",
      "        4. Press 4 for creating pin\n",
      "        5. Press 5 for exit\n",
      "         4\n",
      "Enter new pin:  9874\n"
     ]
    },
    {
     "name": "stdout",
     "output_type": "stream",
     "text": [
      "New pin created: \n"
     ]
    },
    {
     "name": "stdin",
     "output_type": "stream",
     "text": [
      "\n",
      "        1. Press 1 for check balance\n",
      "        2. Press 2 for withdraw\n",
      "        3. Press 3 for deposit\n",
      "        4. Press 4 for creating pin\n",
      "        5. Press 5 for exit\n",
      "         1\n",
      "Enter your pin:  9874\n"
     ]
    },
    {
     "name": "stdout",
     "output_type": "stream",
     "text": [
      "Your balance is : 0\n"
     ]
    },
    {
     "name": "stdin",
     "output_type": "stream",
     "text": [
      "\n",
      "        1. Press 1 for check balance\n",
      "        2. Press 2 for withdraw\n",
      "        3. Press 3 for deposit\n",
      "        4. Press 4 for creating pin\n",
      "        5. Press 5 for exit\n",
      "         5\n"
     ]
    },
    {
     "name": "stdout",
     "output_type": "stream",
     "text": [
      "Bye\n"
     ]
    }
   ],
   "source": [
    "icici = ATM()"
   ]
  },
  {
   "cell_type": "code",
   "execution_count": 136,
   "id": "dc952c4b-17e1-4d8f-8173-87fd003156a1",
   "metadata": {},
   "outputs": [
    {
     "name": "stdout",
     "output_type": "stream",
     "text": [
      "Pin is 9874\n"
     ]
    }
   ],
   "source": [
    "icici.get_pin()"
   ]
  },
  {
   "cell_type": "code",
   "execution_count": 137,
   "id": "db90582d-c499-4021-8b08-7bc43c4f3e15",
   "metadata": {},
   "outputs": [
    {
     "name": "stdout",
     "output_type": "stream",
     "text": [
      "Pin changed successful\n"
     ]
    }
   ],
   "source": [
    "icici.set_pin(3971)"
   ]
  },
  {
   "cell_type": "code",
   "execution_count": 138,
   "id": "f19d0981-4f87-4bba-9f25-1e729cb04628",
   "metadata": {},
   "outputs": [
    {
     "name": "stdout",
     "output_type": "stream",
     "text": [
      "Pin is 3971\n"
     ]
    }
   ],
   "source": [
    "icici.get_pin()"
   ]
  },
  {
   "cell_type": "code",
   "execution_count": 140,
   "id": "97d72c72-c4ef-4573-a2d5-5c0a70cc2bda",
   "metadata": {},
   "outputs": [
    {
     "name": "stdin",
     "output_type": "stream",
     "text": [
      "Enter your pin:  3971\n"
     ]
    },
    {
     "name": "stdout",
     "output_type": "stream",
     "text": [
      "Your balance is : 0\n"
     ]
    },
    {
     "name": "stdin",
     "output_type": "stream",
     "text": [
      "\n",
      "        1. Press 1 for check balance\n",
      "        2. Press 2 for withdraw\n",
      "        3. Press 3 for deposit\n",
      "        4. Press 4 for creating pin\n",
      "        5. Press 5 for exit\n",
      "         3\n",
      "Amount to be deposited:  5120\n",
      "Enter pin 3971\n"
     ]
    },
    {
     "name": "stdout",
     "output_type": "stream",
     "text": [
      "Amount Deposited successful\n"
     ]
    },
    {
     "name": "stdin",
     "output_type": "stream",
     "text": [
      "\n",
      "        1. Press 1 for check balance\n",
      "        2. Press 2 for withdraw\n",
      "        3. Press 3 for deposit\n",
      "        4. Press 4 for creating pin\n",
      "        5. Press 5 for exit\n",
      "         1\n",
      "Enter your pin:  3971\n"
     ]
    },
    {
     "name": "stdout",
     "output_type": "stream",
     "text": [
      "Your balance is : 5120.0\n"
     ]
    },
    {
     "name": "stdin",
     "output_type": "stream",
     "text": [
      "\n",
      "        1. Press 1 for check balance\n",
      "        2. Press 2 for withdraw\n",
      "        3. Press 3 for deposit\n",
      "        4. Press 4 for creating pin\n",
      "        5. Press 5 for exit\n",
      "         5\n"
     ]
    },
    {
     "name": "stdout",
     "output_type": "stream",
     "text": [
      "Bye\n"
     ]
    }
   ],
   "source": [
    "icici.check_bal()"
   ]
  },
  {
   "cell_type": "code",
   "execution_count": 141,
   "id": "f9ddfb70-a44c-4c08-8d1c-42aa12a42552",
   "metadata": {},
   "outputs": [
    {
     "name": "stdin",
     "output_type": "stream",
     "text": [
      "\n",
      "        1. Press 1 for check balance\n",
      "        2. Press 2 for withdraw\n",
      "        3. Press 3 for deposit\n",
      "        4. Press 4 for creating pin\n",
      "        5. Press 5 for exit\n",
      "         4\n",
      "Enter new pin:  2405\n"
     ]
    },
    {
     "name": "stdout",
     "output_type": "stream",
     "text": [
      "New pin created: \n"
     ]
    },
    {
     "name": "stdin",
     "output_type": "stream",
     "text": [
      "\n",
      "        1. Press 1 for check balance\n",
      "        2. Press 2 for withdraw\n",
      "        3. Press 3 for deposit\n",
      "        4. Press 4 for creating pin\n",
      "        5. Press 5 for exit\n",
      "         5\n"
     ]
    },
    {
     "name": "stdout",
     "output_type": "stream",
     "text": [
      "Bye\n"
     ]
    },
    {
     "data": {
      "text/plain": [
       "<__main__.ATM at 0x1c530305c10>"
      ]
     },
     "execution_count": 141,
     "metadata": {},
     "output_type": "execute_result"
    }
   ],
   "source": [
    "ATM()"
   ]
  },
  {
   "cell_type": "code",
   "execution_count": 142,
   "id": "a928a3ec-5e58-4595-ae25-8af189e3d75f",
   "metadata": {},
   "outputs": [],
   "source": [
    "class Customer:\n",
    "    \n",
    "    def __init__(self, name):\n",
    "        self.name = name"
   ]
  },
  {
   "cell_type": "code",
   "execution_count": 143,
   "id": "149066e7-292e-475c-a958-a4d8eaf7bc3e",
   "metadata": {},
   "outputs": [
    {
     "name": "stdout",
     "output_type": "stream",
     "text": [
      "Rohit\n"
     ]
    }
   ],
   "source": [
    "cust_id = Customer('Rohit')\n",
    "print(cust_id.name)"
   ]
  },
  {
   "cell_type": "code",
   "execution_count": 144,
   "id": "8e0de87a-9cea-4699-ae99-4a333cc43f02",
   "metadata": {},
   "outputs": [],
   "source": [
    "class Customer:\n",
    "    \n",
    "    def __init__(self, name, gender):\n",
    "        self.name = name\n",
    "        self.gender = gender\n",
    "        \n",
    "def greet(cust):\n",
    "    if cust.gender == 'Male':\n",
    "        print(\"Hi Mr. {}\".format(cust.name))\n",
    "    elif cust.gender == 'Female':\n",
    "        print(\"Hi Mrs. {}\".format(cust.name))\n",
    "    else:\n",
    "        print(\"Gender is not specified\")"
   ]
  },
  {
   "cell_type": "code",
   "execution_count": 145,
   "id": "dc2f6641-855d-4442-a9eb-109e6e4fad84",
   "metadata": {},
   "outputs": [
    {
     "name": "stdout",
     "output_type": "stream",
     "text": [
      "Hi Mr. Rohit\n"
     ]
    }
   ],
   "source": [
    "myself = Customer('Rohit', 'Male')\n",
    "greet(myself)"
   ]
  },
  {
   "cell_type": "code",
   "execution_count": 146,
   "id": "bff70f9f-6167-4ffa-8d6f-3f17c28eba07",
   "metadata": {},
   "outputs": [
    {
     "name": "stdout",
     "output_type": "stream",
     "text": [
      "Hi Mrs. Nandini\n"
     ]
    }
   ],
   "source": [
    "partner = Customer('Nandini', 'Female')\n",
    "greet(partner)"
   ]
  },
  {
   "cell_type": "code",
   "execution_count": 150,
   "id": "e870eeeb-f965-4e0f-aa52-ebeb3d5ae475",
   "metadata": {},
   "outputs": [
    {
     "name": "stdout",
     "output_type": "stream",
     "text": [
      "Rohit 27\n",
      "Rahul 27\n",
      "Subhadeep 26\n"
     ]
    }
   ],
   "source": [
    "class Customer:\n",
    "    \n",
    "    def __init__(self, name, age):\n",
    "        self.name = name\n",
    "        self.age = age\n",
    "        \n",
    "c1 = Customer('Rohit', 27)\n",
    "c2 = Customer('Rahul', 27)\n",
    "c3 = Customer('Subhadeep', 26)\n",
    "\n",
    "L = list([c1, c2, c3])\n",
    "\n",
    "#for i in L:\n",
    "    #print(i)\n",
    "    \n",
    "for i in L:\n",
    "    print(i.name, i.age)"
   ]
  },
  {
   "cell_type": "markdown",
   "id": "ac3bba5a-b64d-4203-9614-d293d1f5b510",
   "metadata": {},
   "source": [
    "### Static variabe"
   ]
  },
  {
   "cell_type": "code",
   "execution_count": 168,
   "id": "8ab6259a-b75c-48aa-be2b-60aca08bc6b9",
   "metadata": {},
   "outputs": [],
   "source": [
    "class ATM:\n",
    "    \n",
    "    #Class variable\n",
    "    __counter = 1\n",
    "    \n",
    "    def __init__(self):\n",
    "        self.__pin = ''\n",
    "        self.__balance = 0\n",
    "        self.sno = ATM.__counter\n",
    "        ATM.__counter += 1\n",
    "        \n",
    "        self.menu()\n",
    "        \n",
    "    @staticmethod\n",
    "    def get_counter():\n",
    "        return ATM.__counter\n",
    "    \n",
    "    @staticmethod\n",
    "    def set_counter(new):\n",
    "        if type(new) == int:\n",
    "            ATM.__counter = new\n",
    "        else:\n",
    "            return \"Not valid\"\n",
    "        \n",
    "    def menu(self):\n",
    "        cust_input = input(\"\"\"\n",
    "        1. Press 1 for check balance\n",
    "        2. Press 2 for withdraw\n",
    "        3. Press 3 for deposit\n",
    "        4. Press 4 for creating pin\n",
    "        5. Press 5 for exit\n",
    "        \"\"\")\n",
    "        \n",
    "        if cust_input == '1':\n",
    "            self.check_bal()\n",
    "        elif cust_input == '2':\n",
    "            self.withdraw()\n",
    "        elif cust_input == '3':\n",
    "            self.deposit()\n",
    "        elif cust_input == '4':\n",
    "            self.pin_create()\n",
    "        elif cust_input == '5':\n",
    "            self.exit()\n",
    "            \n",
    "    def get_pin(self):\n",
    "        print(\"Pin is {}\".format(self.__pin))\n",
    "        \n",
    "    def set_pin(self, new_pin):\n",
    "        self.__pin = str(new_pin)\n",
    "        print(\"Pin changed successful\")\n",
    "        \n",
    "    def check_bal(self):\n",
    "        pin = input(\"Enter your pin: \")\n",
    "        if pin == self.__pin:\n",
    "            print(\"Your balance is : {}\".format(self.__balance))\n",
    "        else:\n",
    "            print(\"Wrong Pin\")\n",
    "        \n",
    "        self.menu()\n",
    "        \n",
    "    def withdraw(self):\n",
    "        amount = input(\"Withdrawal Amount: \")\n",
    "        temp = input(\"Enter pin: \")\n",
    "        if temp == self.__pin:\n",
    "            if float(amount) > self.__balance:\n",
    "                print(\"Withdrawal not possible as balance is low\")\n",
    "            else:\n",
    "                self.__balance -= float(amount)\n",
    "                print(\"Amount Withdrawn Successful\")\n",
    "        else:\n",
    "            print(\"Pin not correct\")\n",
    "            \n",
    "        self.menu()\n",
    "            \n",
    "    def deposit(self):\n",
    "        dep_amnt = float(input(\"Amount to be deposited: \"))\n",
    "        pin = input(\"Enter pin\")\n",
    "        if pin == self.__pin:\n",
    "            self.__balance += dep_amnt\n",
    "            print('Amount Deposited successful')\n",
    "        else:\n",
    "            print(\"Wrong Pin\")\n",
    "            \n",
    "        self.menu()\n",
    "        \n",
    "    def pin_create(self):\n",
    "        self.__pin = input(\"Enter new pin: \")\n",
    "        print(\"New pin created: \")\n",
    "        \n",
    "        self.menu()\n",
    "        \n",
    "    def exit(self):\n",
    "        print(\"Bye\")\n",
    "        pass"
   ]
  },
  {
   "cell_type": "code",
   "execution_count": 152,
   "id": "7478d99b-0bc0-4ff5-9ee9-ed685a3c766c",
   "metadata": {},
   "outputs": [
    {
     "name": "stdin",
     "output_type": "stream",
     "text": [
      "\n",
      "        1. Press 1 for check balance\n",
      "        2. Press 2 for withdraw\n",
      "        3. Press 3 for deposit\n",
      "        4. Press 4 for creating pin\n",
      "        5. Press 5 for exit\n",
      "         4\n",
      "Enter new pin:  9874\n"
     ]
    },
    {
     "name": "stdout",
     "output_type": "stream",
     "text": [
      "New pin created: \n"
     ]
    },
    {
     "name": "stdin",
     "output_type": "stream",
     "text": [
      "\n",
      "        1. Press 1 for check balance\n",
      "        2. Press 2 for withdraw\n",
      "        3. Press 3 for deposit\n",
      "        4. Press 4 for creating pin\n",
      "        5. Press 5 for exit\n",
      "         5\n"
     ]
    },
    {
     "name": "stdout",
     "output_type": "stream",
     "text": [
      "Bye\n"
     ]
    }
   ],
   "source": [
    "icici = ATM()"
   ]
  },
  {
   "cell_type": "code",
   "execution_count": 153,
   "id": "ec6fc2ca-0657-4331-a220-94f2352f57d8",
   "metadata": {},
   "outputs": [
    {
     "name": "stdin",
     "output_type": "stream",
     "text": [
      "\n",
      "        1. Press 1 for check balance\n",
      "        2. Press 2 for withdraw\n",
      "        3. Press 3 for deposit\n",
      "        4. Press 4 for creating pin\n",
      "        5. Press 5 for exit\n",
      "         4\n",
      "Enter new pin:  3971\n"
     ]
    },
    {
     "name": "stdout",
     "output_type": "stream",
     "text": [
      "New pin created: \n"
     ]
    },
    {
     "name": "stdin",
     "output_type": "stream",
     "text": [
      "\n",
      "        1. Press 1 for check balance\n",
      "        2. Press 2 for withdraw\n",
      "        3. Press 3 for deposit\n",
      "        4. Press 4 for creating pin\n",
      "        5. Press 5 for exit\n",
      "         5\n"
     ]
    },
    {
     "name": "stdout",
     "output_type": "stream",
     "text": [
      "Bye\n"
     ]
    }
   ],
   "source": [
    "hdfc = ATM()"
   ]
  },
  {
   "cell_type": "code",
   "execution_count": 154,
   "id": "cb165dbd-b329-4440-bfa5-f3897a1322ba",
   "metadata": {},
   "outputs": [
    {
     "name": "stdin",
     "output_type": "stream",
     "text": [
      "\n",
      "        1. Press 1 for check balance\n",
      "        2. Press 2 for withdraw\n",
      "        3. Press 3 for deposit\n",
      "        4. Press 4 for creating pin\n",
      "        5. Press 5 for exit\n",
      "         4\n",
      "Enter new pin:  2405\n"
     ]
    },
    {
     "name": "stdout",
     "output_type": "stream",
     "text": [
      "New pin created: \n"
     ]
    },
    {
     "name": "stdin",
     "output_type": "stream",
     "text": [
      "\n",
      "        1. Press 1 for check balance\n",
      "        2. Press 2 for withdraw\n",
      "        3. Press 3 for deposit\n",
      "        4. Press 4 for creating pin\n",
      "        5. Press 5 for exit\n",
      "         5\n"
     ]
    },
    {
     "name": "stdout",
     "output_type": "stream",
     "text": [
      "Bye\n"
     ]
    }
   ],
   "source": [
    "pnb = ATM()"
   ]
  },
  {
   "cell_type": "code",
   "execution_count": 156,
   "id": "80579880-945e-41f8-a38a-5ae2199aafc8",
   "metadata": {},
   "outputs": [
    {
     "data": {
      "text/plain": [
       "1"
      ]
     },
     "execution_count": 156,
     "metadata": {},
     "output_type": "execute_result"
    }
   ],
   "source": [
    "icici.sno"
   ]
  },
  {
   "cell_type": "code",
   "execution_count": 157,
   "id": "3d4c24cc-d9f3-4a38-b78e-b54b03cea1dc",
   "metadata": {},
   "outputs": [
    {
     "data": {
      "text/plain": [
       "2"
      ]
     },
     "execution_count": 157,
     "metadata": {},
     "output_type": "execute_result"
    }
   ],
   "source": [
    "hdfc.sno"
   ]
  },
  {
   "cell_type": "code",
   "execution_count": 158,
   "id": "14e3b213-f3f1-4973-94b3-89255b29a92b",
   "metadata": {},
   "outputs": [
    {
     "data": {
      "text/plain": [
       "3"
      ]
     },
     "execution_count": 158,
     "metadata": {},
     "output_type": "execute_result"
    }
   ],
   "source": [
    "pnb.sno"
   ]
  },
  {
   "cell_type": "code",
   "execution_count": 159,
   "id": "eed4ebaf-4d32-4220-80cc-bc19cb7d76bd",
   "metadata": {},
   "outputs": [
    {
     "name": "stdout",
     "output_type": "stream",
     "text": [
      "4\n",
      "4\n",
      "4\n"
     ]
    }
   ],
   "source": [
    "print(icici.counter)\n",
    "print(hdfc.counter)\n",
    "print(pnb.counter)"
   ]
  },
  {
   "cell_type": "code",
   "execution_count": 160,
   "id": "0bb83076-866b-480c-a8cf-c388a114823d",
   "metadata": {},
   "outputs": [
    {
     "data": {
      "text/plain": [
       "4"
      ]
     },
     "execution_count": 160,
     "metadata": {},
     "output_type": "execute_result"
    }
   ],
   "source": [
    "ATM.counter"
   ]
  },
  {
   "cell_type": "code",
   "execution_count": 169,
   "id": "0bebe436-5a83-4d2f-94ef-a06f5c02c987",
   "metadata": {},
   "outputs": [
    {
     "name": "stdin",
     "output_type": "stream",
     "text": [
      "\n",
      "        1. Press 1 for check balance\n",
      "        2. Press 2 for withdraw\n",
      "        3. Press 3 for deposit\n",
      "        4. Press 4 for creating pin\n",
      "        5. Press 5 for exit\n",
      "         4\n",
      "Enter new pin:  5240\n"
     ]
    },
    {
     "name": "stdout",
     "output_type": "stream",
     "text": [
      "New pin created: \n"
     ]
    },
    {
     "name": "stdin",
     "output_type": "stream",
     "text": [
      "\n",
      "        1. Press 1 for check balance\n",
      "        2. Press 2 for withdraw\n",
      "        3. Press 3 for deposit\n",
      "        4. Press 4 for creating pin\n",
      "        5. Press 5 for exit\n",
      "         5\n"
     ]
    },
    {
     "name": "stdout",
     "output_type": "stream",
     "text": [
      "Bye\n"
     ]
    }
   ],
   "source": [
    "yes = ATM()"
   ]
  },
  {
   "cell_type": "code",
   "execution_count": 170,
   "id": "940425c1-a646-49f4-a3d6-a0f367e5e312",
   "metadata": {},
   "outputs": [
    {
     "data": {
      "text/plain": [
       "2"
      ]
     },
     "execution_count": 170,
     "metadata": {},
     "output_type": "execute_result"
    }
   ],
   "source": [
    "yes.get_counter()"
   ]
  },
  {
   "cell_type": "code",
   "execution_count": 171,
   "id": "f0b62b73-79ec-4f80-8396-80813fba59dc",
   "metadata": {},
   "outputs": [],
   "source": [
    "yes.set_counter(10)"
   ]
  },
  {
   "cell_type": "code",
   "execution_count": 172,
   "id": "d0463a47-e10d-4ca0-8e6a-6e6b0f6f1075",
   "metadata": {},
   "outputs": [
    {
     "data": {
      "text/plain": [
       "10"
      ]
     },
     "execution_count": 172,
     "metadata": {},
     "output_type": "execute_result"
    }
   ],
   "source": [
    "yes.get_counter()"
   ]
  },
  {
   "cell_type": "markdown",
   "id": "b8d9a745-7c92-49aa-9ce3-7dc67146b5be",
   "metadata": {},
   "source": [
    "## Aggregation"
   ]
  },
  {
   "cell_type": "code",
   "execution_count": 6,
   "id": "98e48f4b-9416-49a2-9ccf-4a6d483af53d",
   "metadata": {},
   "outputs": [],
   "source": [
    "class Customer:\n",
    "    \n",
    "    def __init__(self, name, gender, address):\n",
    "        self.name = name\n",
    "        self.gender = gender\n",
    "        self.address = address\n",
    "        \n",
    "class Address:\n",
    "    \n",
    "    def __init__(self, city, state, pin):\n",
    "        self.city = city\n",
    "        self.state = state\n",
    "        self.pin = pin"
   ]
  },
  {
   "cell_type": "code",
   "execution_count": 7,
   "id": "e992212a-8504-451c-b510-382a151fdcca",
   "metadata": {},
   "outputs": [],
   "source": [
    "add = Address('Kolkata', 'WB', 700078)\n",
    "cust = Customer('Rohit', 'Male', add)"
   ]
  },
  {
   "cell_type": "code",
   "execution_count": 8,
   "id": "7bd0449a-cc09-4b02-8c8c-232c4f86ecdd",
   "metadata": {},
   "outputs": [
    {
     "data": {
      "text/plain": [
       "'Rohit'"
      ]
     },
     "execution_count": 8,
     "metadata": {},
     "output_type": "execute_result"
    }
   ],
   "source": [
    "cust.name"
   ]
  },
  {
   "cell_type": "code",
   "execution_count": 9,
   "id": "84e60ddd-0998-4a21-9676-1cf9e4fcedbd",
   "metadata": {},
   "outputs": [
    {
     "data": {
      "text/plain": [
       "'Male'"
      ]
     },
     "execution_count": 9,
     "metadata": {},
     "output_type": "execute_result"
    }
   ],
   "source": [
    "cust.gender"
   ]
  },
  {
   "cell_type": "code",
   "execution_count": 11,
   "id": "74927c55-a20f-4a63-a84f-1500d0f9d8d4",
   "metadata": {},
   "outputs": [
    {
     "data": {
      "text/plain": [
       "<__main__.Address at 0x1d606bc5ee0>"
      ]
     },
     "execution_count": 11,
     "metadata": {},
     "output_type": "execute_result"
    }
   ],
   "source": [
    "cust.address"
   ]
  },
  {
   "cell_type": "code",
   "execution_count": 12,
   "id": "96639a1a-dec2-4032-9f57-6c4ff52fa65a",
   "metadata": {},
   "outputs": [
    {
     "data": {
      "text/plain": [
       "'Kolkata'"
      ]
     },
     "execution_count": 12,
     "metadata": {},
     "output_type": "execute_result"
    }
   ],
   "source": [
    "cust.address.city"
   ]
  },
  {
   "cell_type": "code",
   "execution_count": 13,
   "id": "1884d333-9160-491f-9e3b-04dda0e920da",
   "metadata": {},
   "outputs": [
    {
     "data": {
      "text/plain": [
       "'WB'"
      ]
     },
     "execution_count": 13,
     "metadata": {},
     "output_type": "execute_result"
    }
   ],
   "source": [
    "cust.address.state"
   ]
  },
  {
   "cell_type": "code",
   "execution_count": 14,
   "id": "796b897f-e2a9-4869-abc1-3901b268c6da",
   "metadata": {},
   "outputs": [
    {
     "data": {
      "text/plain": [
       "700078"
      ]
     },
     "execution_count": 14,
     "metadata": {},
     "output_type": "execute_result"
    }
   ],
   "source": [
    "cust.address.pin"
   ]
  },
  {
   "cell_type": "code",
   "execution_count": 35,
   "id": "59de97fe-83a6-4d61-b56a-36abed749722",
   "metadata": {},
   "outputs": [],
   "source": [
    "class Customer:\n",
    "    \n",
    "    def __init__(self, name, gender, address):\n",
    "        self.name = name\n",
    "        self.gender = gender\n",
    "        self.address = address\n",
    "        \n",
    "    def edit_profile(self, new_name, new_city, new_state, new_pin):\n",
    "        self.name = new_name\n",
    "        self.address.change_address(new_city, new_state, new_pin)\n",
    "        \n",
    "class Address:\n",
    "    \n",
    "    def __init__(self, city, state, pin):\n",
    "        self.city = city\n",
    "        self.state = state\n",
    "        self.pin = pin\n",
    "        \n",
    "    def change_address(self, new_city, new_state, new_pin):\n",
    "        self.city = new_city\n",
    "        self.state = new_state\n",
    "        self.pin = new_pin"
   ]
  },
  {
   "cell_type": "code",
   "execution_count": 36,
   "id": "b51c660f-bc48-4338-b0ef-4abfd3ea50d5",
   "metadata": {},
   "outputs": [],
   "source": [
    "add = Address('Kolkata', 'WB', 700078)\n",
    "cust = Customer('Rohit', 'Male', add)"
   ]
  },
  {
   "cell_type": "code",
   "execution_count": 37,
   "id": "f9f7756f-7ec9-4e70-a277-7c62437b7be7",
   "metadata": {},
   "outputs": [
    {
     "data": {
      "text/plain": [
       "'Rohit'"
      ]
     },
     "execution_count": 37,
     "metadata": {},
     "output_type": "execute_result"
    }
   ],
   "source": [
    "cust.name"
   ]
  },
  {
   "cell_type": "code",
   "execution_count": 38,
   "id": "7014d9d8-ac66-4312-9809-6bfbb5117f4c",
   "metadata": {},
   "outputs": [
    {
     "data": {
      "text/plain": [
       "'Male'"
      ]
     },
     "execution_count": 38,
     "metadata": {},
     "output_type": "execute_result"
    }
   ],
   "source": [
    "cust.gender"
   ]
  },
  {
   "cell_type": "code",
   "execution_count": 39,
   "id": "b0a0195a-ff57-4aaa-bb7a-6ad4fb30e8f1",
   "metadata": {},
   "outputs": [
    {
     "data": {
      "text/plain": [
       "<__main__.Address at 0x1d60700b2b0>"
      ]
     },
     "execution_count": 39,
     "metadata": {},
     "output_type": "execute_result"
    }
   ],
   "source": [
    "cust.address"
   ]
  },
  {
   "cell_type": "code",
   "execution_count": 40,
   "id": "74bb92fb-c09a-4337-a637-d4806c49e5cc",
   "metadata": {},
   "outputs": [
    {
     "data": {
      "text/plain": [
       "'Kolkata'"
      ]
     },
     "execution_count": 40,
     "metadata": {},
     "output_type": "execute_result"
    }
   ],
   "source": [
    "cust.address.city"
   ]
  },
  {
   "cell_type": "code",
   "execution_count": 41,
   "id": "63c80b65-6be0-442b-82d3-28c1056af55b",
   "metadata": {},
   "outputs": [
    {
     "data": {
      "text/plain": [
       "'WB'"
      ]
     },
     "execution_count": 41,
     "metadata": {},
     "output_type": "execute_result"
    }
   ],
   "source": [
    "cust.address.state"
   ]
  },
  {
   "cell_type": "code",
   "execution_count": 42,
   "id": "2f75bdaa-03ef-4e6b-9e9c-734a24ae9d87",
   "metadata": {},
   "outputs": [],
   "source": [
    "cust.edit_profile('Rahul', 'Pune', 'MH', 200156)"
   ]
  },
  {
   "cell_type": "code",
   "execution_count": 43,
   "id": "2349fbc4-5f55-43ab-8fe2-8033d5d470a4",
   "metadata": {},
   "outputs": [
    {
     "data": {
      "text/plain": [
       "'Rahul'"
      ]
     },
     "execution_count": 43,
     "metadata": {},
     "output_type": "execute_result"
    }
   ],
   "source": [
    "cust.name"
   ]
  },
  {
   "cell_type": "code",
   "execution_count": 44,
   "id": "0e744a57-abbb-4587-8685-4979fb0b44a1",
   "metadata": {},
   "outputs": [
    {
     "data": {
      "text/plain": [
       "'Pune'"
      ]
     },
     "execution_count": 44,
     "metadata": {},
     "output_type": "execute_result"
    }
   ],
   "source": [
    "cust.address.city"
   ]
  },
  {
   "cell_type": "markdown",
   "id": "b1b253f7-aef3-4571-8893-b4b601400315",
   "metadata": {},
   "source": [
    "## Inheritance "
   ]
  },
  {
   "cell_type": "code",
   "execution_count": 49,
   "id": "1cfbc147-461a-460c-bc91-46c20e02d81f",
   "metadata": {},
   "outputs": [
    {
     "data": {
      "text/plain": [
       "<__main__.Student at 0x1d6073b38e0>"
      ]
     },
     "execution_count": 49,
     "metadata": {},
     "output_type": "execute_result"
    }
   ],
   "source": [
    "class User:\n",
    "    \n",
    "    def __init__(self):\n",
    "        pass\n",
    "    \n",
    "    def login(self):\n",
    "        print(\"Login\")\n",
    "        \n",
    "    def register(self):\n",
    "        print(\"Register\")\n",
    "        \n",
    "class Student(User):\n",
    "    \n",
    "    def __init__(self):\n",
    "        pass\n",
    "    \n",
    "    def enroll(self):\n",
    "        print(\"Enroll\")\n",
    "        \n",
    "    def review(self):\n",
    "        print(\"Review\")\n",
    "        \n",
    "        \n",
    "        \n",
    "stu1 = Student()\n",
    "\n",
    "stu1"
   ]
  },
  {
   "cell_type": "code",
   "execution_count": 50,
   "id": "11b7e3a8-c2ec-4a00-a8b3-c8f9b65202ed",
   "metadata": {},
   "outputs": [
    {
     "name": "stdout",
     "output_type": "stream",
     "text": [
      "Enroll\n",
      "Review\n",
      "Register\n",
      "Enroll\n"
     ]
    }
   ],
   "source": [
    "stu1.enroll()\n",
    "stu1.review()\n",
    "stu1.register()\n",
    "stu1.enroll()"
   ]
  },
  {
   "cell_type": "code",
   "execution_count": 57,
   "id": "6eca2477-e815-4122-9382-4494fde313b5",
   "metadata": {},
   "outputs": [],
   "source": [
    "class Phone:\n",
    "    \n",
    "    def __init__(self, price, brand, camera):\n",
    "        print(\"Inside Phone Constructor\")\n",
    "        self.price = price\n",
    "        self.brand = brand\n",
    "        self.camera = camera\n",
    "        \n",
    "    def buy(self):\n",
    "        print(\"Buying a Phone\")\n",
    "        \n",
    "    def returning(self):\n",
    "        print(\"Returning a phone\")\n",
    "        \n",
    "class SmartPhone(Phone):\n",
    "    pass\n",
    "\n",
    "class FeaturePhone(Phone):\n",
    "    pass"
   ]
  },
  {
   "cell_type": "code",
   "execution_count": 58,
   "id": "71d220d5-a146-4230-96f2-e28cec64b4cd",
   "metadata": {},
   "outputs": [
    {
     "name": "stdout",
     "output_type": "stream",
     "text": [
      "Inside Phone Constructor\n"
     ]
    }
   ],
   "source": [
    "samsng = FeaturePhone(15000, 'Samsung', 25)"
   ]
  },
  {
   "cell_type": "code",
   "execution_count": 59,
   "id": "837ea0da-77b6-4260-ac41-80c0f77a8cb3",
   "metadata": {},
   "outputs": [
    {
     "name": "stdout",
     "output_type": "stream",
     "text": [
      "Buying a Phone\n",
      "Returning a phone\n"
     ]
    }
   ],
   "source": [
    "samsng.price\n",
    "samsng.brand\n",
    "samsng.camera\n",
    "samsng.buy()\n",
    "samsng.returning()"
   ]
  },
  {
   "cell_type": "code",
   "execution_count": 60,
   "id": "fd29dbd0-8a5a-4835-95e1-7cc534508b8f",
   "metadata": {},
   "outputs": [],
   "source": [
    "class Phone:\n",
    "    \n",
    "    def __init__(self, price, brand, camera):\n",
    "        print(\"Inside Phone Constructor\")\n",
    "        self.price = price\n",
    "        self.__brand = brand\n",
    "        self.camera = camera\n",
    "        \n",
    "    def buy(self):\n",
    "        print(\"Buying a Phone\")\n",
    "        \n",
    "    def returning(self):\n",
    "        print(\"Returning a phone\")\n",
    "        \n",
    "class SmartPhone(Phone):\n",
    "    pass\n",
    "\n",
    "class FeaturePhone(Phone):\n",
    "    pass"
   ]
  },
  {
   "cell_type": "code",
   "execution_count": 61,
   "id": "668826df-875e-405d-b367-f62a64b12403",
   "metadata": {},
   "outputs": [
    {
     "name": "stdout",
     "output_type": "stream",
     "text": [
      "Inside Phone Constructor\n"
     ]
    }
   ],
   "source": [
    "samsng = FeaturePhone(15000, 'Samsung', 25)"
   ]
  },
  {
   "cell_type": "code",
   "execution_count": 62,
   "id": "7b3b7db0-ca20-4fc4-b19d-67e3db9be06a",
   "metadata": {},
   "outputs": [
    {
     "data": {
      "text/plain": [
       "15000"
      ]
     },
     "execution_count": 62,
     "metadata": {},
     "output_type": "execute_result"
    }
   ],
   "source": [
    "samsng.price"
   ]
  },
  {
   "cell_type": "code",
   "execution_count": 63,
   "id": "f4f8f12e-1938-4824-8b80-3540627016a2",
   "metadata": {},
   "outputs": [
    {
     "data": {
      "text/plain": [
       "25"
      ]
     },
     "execution_count": 63,
     "metadata": {},
     "output_type": "execute_result"
    }
   ],
   "source": [
    "samsng.camera"
   ]
  },
  {
   "cell_type": "code",
   "execution_count": 65,
   "id": "d56a02dc-7cdc-4c04-9fff-93dff47aea18",
   "metadata": {},
   "outputs": [
    {
     "ename": "<class 'AttributeError'>",
     "evalue": "'FeaturePhone' object has no attribute 'brand'",
     "output_type": "error",
     "traceback": [
      "\u001b[1;31m---------------------------------------------------------------------------\u001b[0m",
      "\u001b[1;31mAttributeError\u001b[0m                            Traceback (most recent call last)",
      "Input \u001b[1;32mIn [65]\u001b[0m, in \u001b[0;36m<cell line: 1>\u001b[1;34m()\u001b[0m\n\u001b[1;32m----> 1\u001b[0m \u001b[43msamsng\u001b[49m\u001b[38;5;241;43m.\u001b[39;49m\u001b[43mbrand\u001b[49m\n",
      "\u001b[1;31mAttributeError\u001b[0m: 'FeaturePhone' object has no attribute 'brand'"
     ]
    }
   ],
   "source": [
    "samsng.brand"
   ]
  },
  {
   "cell_type": "code",
   "execution_count": 91,
   "id": "e9986b57-82f7-4a45-8407-6941ff1ce17c",
   "metadata": {},
   "outputs": [],
   "source": [
    "class Phone:\n",
    "    \n",
    "    def __init__(self, price, brand, camera):\n",
    "        print(\"Inside Phone Constructor\")\n",
    "        self.price = price\n",
    "        self.__brand = brand\n",
    "        self.camera = camera\n",
    "        \n",
    "    def buy(self):\n",
    "        print(\"Buying a Phone\")\n",
    "        \n",
    "    def returning(self):\n",
    "        print(\"Returning a phone\")\n",
    "        \n",
    "class SmartPhone(Phone):\n",
    "    \n",
    "    def buy(self):\n",
    "        print(\"Buying a SmartPhone\")"
   ]
  },
  {
   "cell_type": "code",
   "execution_count": 92,
   "id": "24cd177e-db70-4219-895d-cd47311e95f7",
   "metadata": {},
   "outputs": [
    {
     "name": "stdout",
     "output_type": "stream",
     "text": [
      "Inside Phone Constructor\n"
     ]
    }
   ],
   "source": [
    "s = SmartPhone(15000, 'Samsung', 25)"
   ]
  },
  {
   "cell_type": "code",
   "execution_count": 93,
   "id": "707bc1aa-a00d-417a-b22e-95b4f730af5c",
   "metadata": {},
   "outputs": [
    {
     "name": "stdout",
     "output_type": "stream",
     "text": [
      "Buying a SmartPhone\n"
     ]
    }
   ],
   "source": [
    "s.buy()"
   ]
  },
  {
   "cell_type": "code",
   "execution_count": 94,
   "id": "e1094470-afa5-4094-b2cc-c1c629dffef4",
   "metadata": {},
   "outputs": [],
   "source": [
    "class Phone:\n",
    "    \n",
    "    def __init__(self, price, brand, camera):\n",
    "        print(\"Inside Phone Constructor\")\n",
    "        self.price = price\n",
    "        self.__brand = brand\n",
    "        self.camera = camera\n",
    "        \n",
    "    def buy(self):\n",
    "        print(\"Buying a Phone\")\n",
    "        \n",
    "    def returning(self):\n",
    "        print(\"Returning a phone\")\n",
    "        \n",
    "class SmartPhone(Phone):\n",
    "    \n",
    "    def buy(self):\n",
    "        print(\"Buying a SmartPhone\")\n",
    "        super().buy()"
   ]
  },
  {
   "cell_type": "code",
   "execution_count": 95,
   "id": "d250ea4b-78ee-4b07-a4ca-b84ff72fc23d",
   "metadata": {},
   "outputs": [
    {
     "name": "stdout",
     "output_type": "stream",
     "text": [
      "Inside Phone Constructor\n",
      "Buying a SmartPhone\n",
      "Buying a Phone\n"
     ]
    }
   ],
   "source": [
    "s = SmartPhone(15000, 'Samsung', 25)\n",
    "s.buy()"
   ]
  },
  {
   "cell_type": "code",
   "execution_count": 96,
   "id": "ec5236b9-5fa7-40df-ac35-162799c467b0",
   "metadata": {},
   "outputs": [
    {
     "ename": "<class 'AttributeError'>",
     "evalue": "'SmartPhone' object has no attribute 'super'",
     "output_type": "error",
     "traceback": [
      "\u001b[1;31m---------------------------------------------------------------------------\u001b[0m",
      "\u001b[1;31mAttributeError\u001b[0m                            Traceback (most recent call last)",
      "Input \u001b[1;32mIn [96]\u001b[0m, in \u001b[0;36m<cell line: 1>\u001b[1;34m()\u001b[0m\n\u001b[1;32m----> 1\u001b[0m \u001b[43ms\u001b[49m\u001b[38;5;241;43m.\u001b[39;49m\u001b[43msuper\u001b[49m()\u001b[38;5;241m.\u001b[39mbuy()\n",
      "\u001b[1;31mAttributeError\u001b[0m: 'SmartPhone' object has no attribute 'super'"
     ]
    }
   ],
   "source": [
    "s.super().buy()"
   ]
  },
  {
   "cell_type": "code",
   "execution_count": 97,
   "id": "615def70-16e4-4c59-adf2-f1d6ed2b1b3e",
   "metadata": {},
   "outputs": [],
   "source": [
    "class Phone:\n",
    "    \n",
    "    def __init__(self, price, brand, camera):\n",
    "        print(\"Inside Phone Constructor\")\n",
    "        self.price = price\n",
    "        self.__brand = brand\n",
    "        self.camera = camera\n",
    "        \n",
    "class SmartPhone(Phone):\n",
    "    \n",
    "    def __init__(self, price, brand, camera, os, ram):\n",
    "        super().__init__(price, brand, camera)\n",
    "        self.os = os\n",
    "        self.ram = ram\n",
    "        print(\"Inside SmartPhone Constructor\")"
   ]
  },
  {
   "cell_type": "code",
   "execution_count": 101,
   "id": "f6814866-a993-4c4c-a624-444126d40d41",
   "metadata": {},
   "outputs": [
    {
     "name": "stdout",
     "output_type": "stream",
     "text": [
      "Inside Phone Constructor\n",
      "Inside SmartPhone Constructor\n"
     ]
    }
   ],
   "source": [
    "s = SmartPhone(15000, 'Samsung', 25, 11, 6)"
   ]
  },
  {
   "cell_type": "code",
   "execution_count": 102,
   "id": "7124969c-4499-46c6-8649-b8561382c0f8",
   "metadata": {},
   "outputs": [
    {
     "name": "stdout",
     "output_type": "stream",
     "text": [
      "11\n"
     ]
    }
   ],
   "source": [
    "print(s.os)"
   ]
  },
  {
   "cell_type": "code",
   "execution_count": 103,
   "id": "a790dd1b-b2a3-44b6-a7e5-81d356ca72ea",
   "metadata": {},
   "outputs": [
    {
     "name": "stdout",
     "output_type": "stream",
     "text": [
      "15000\n"
     ]
    }
   ],
   "source": [
    "print(s.price)"
   ]
  },
  {
   "cell_type": "code",
   "execution_count": 108,
   "id": "b7defd18-d30d-41d8-af31-24edf464f995",
   "metadata": {},
   "outputs": [],
   "source": [
    "class Phone:\n",
    "    \n",
    "    def __init__(self, price, brand, camera):\n",
    "        print(\"Inside Phone Constructor\")\n",
    "        self.price = price\n",
    "        self.brand = brand\n",
    "        self.camera = camera\n",
    "        \n",
    "class SmartPhone(Phone):\n",
    "    \n",
    "    def __init__(self, price, brand, camera, os, ram):\n",
    "        print(\"First execute this\")\n",
    "        super().__init__(price, brand, camera)\n",
    "        self.os = os\n",
    "        self.ram = ram\n",
    "        print(\"Inside SmartPhone Constructor\")\n",
    "        \n",
    "    def show(self):\n",
    "        print(\"Smartphone price is {}\".format(self.price))\n",
    "        print(\"Smartphone brand is {}\".format(self.brand))\n",
    "        print(\"Smartphone camera is {}\".format(self.camera))\n",
    "        print(\"Smartphone os is {}\".format(self.os))\n",
    "        print(\"Smartphone ram is {}\".format(self.ram))"
   ]
  },
  {
   "cell_type": "code",
   "execution_count": 111,
   "id": "9df4a21e-cc3e-44e5-a23b-d19f58b1576b",
   "metadata": {
    "collapsed": true,
    "jupyter": {
     "outputs_hidden": true
    },
    "tags": []
   },
   "outputs": [
    {
     "name": "stdout",
     "output_type": "stream",
     "text": [
      "First execute this\n",
      "Inside Phone Constructor\n",
      "Inside SmartPhone Constructor\n"
     ]
    }
   ],
   "source": [
    "s = SmartPhone(15000, 'Samsung', 25, 'Android', 6)"
   ]
  },
  {
   "cell_type": "code",
   "execution_count": 112,
   "id": "a75bcb54-3fa3-4233-94f3-a0fa9e7d168c",
   "metadata": {},
   "outputs": [
    {
     "name": "stdout",
     "output_type": "stream",
     "text": [
      "Smartphone price is 15000\n",
      "Smartphone brand is Samsung\n",
      "Smartphone camera is 25\n",
      "Smartphone os is Android\n",
      "Smartphone ram is 6\n"
     ]
    }
   ],
   "source": [
    "s.show()"
   ]
  },
  {
   "cell_type": "code",
   "execution_count": 34,
   "id": "203138a3-a83d-4720-9d22-8ee374d7fbf2",
   "metadata": {},
   "outputs": [],
   "source": [
    "class AP:\n",
    "    \n",
    "    def __init__(self, first_term, common_diff):\n",
    "        self.a = first_term\n",
    "        self.d = common_diff\n",
    "        \n",
    "    def last_term(self, no_of_terms):\n",
    "        self.n = no_of_terms\n",
    "        return (self.a + (self.n-1)*(self.d))\n",
    "        \n",
    "    def Sum(self, no_of_terms):\n",
    "        self.n = no_of_terms\n",
    "        l = self.last_term(self.n)\n",
    "        return (((self.n)/2)*(self.a + l))"
   ]
  },
  {
   "cell_type": "code",
   "execution_count": 1,
   "id": "186212ad-2437-4a85-aba8-8b7e21bb3f9c",
   "metadata": {},
   "outputs": [],
   "source": [
    "class GP:\n",
    "    \n",
    "    def __init__(self, a, cr):\n",
    "        self.first_term = a\n",
    "        self.common_ratio = cr\n",
    "        \n",
    "    def last_term(self, n):\n",
    "        self.n = n\n",
    "        l = self.first_term*((self.common_ratio)**(self.n-1))\n",
    "        return l\n",
    "    \n",
    "    def Sum(self, n):\n",
    "        self.n = n\n",
    "        S = self.first_term*(self.common_ratio**self.n-1)/(self.common_ratio-1)\n",
    "        return S"
   ]
  },
  {
   "cell_type": "code",
   "execution_count": 2,
   "id": "06091dbf-fea5-4d93-b697-2e42f0de1619",
   "metadata": {},
   "outputs": [],
   "source": [
    "g = GP(5, 2)"
   ]
  },
  {
   "cell_type": "code",
   "execution_count": 3,
   "id": "e9aae557-ed59-4915-a88b-75462c7e0557",
   "metadata": {},
   "outputs": [
    {
     "data": {
      "text/plain": [
       "80"
      ]
     },
     "execution_count": 3,
     "metadata": {},
     "output_type": "execute_result"
    }
   ],
   "source": [
    "g.last_term(5)"
   ]
  },
  {
   "cell_type": "code",
   "execution_count": 4,
   "id": "995c8c2b-e2f6-45a1-9882-5517af4515ea",
   "metadata": {},
   "outputs": [
    {
     "data": {
      "text/plain": [
       "155.0"
      ]
     },
     "execution_count": 4,
     "metadata": {},
     "output_type": "execute_result"
    }
   ],
   "source": [
    "g.Sum(5)"
   ]
  },
  {
   "cell_type": "code",
   "execution_count": null,
   "id": "528bfb54-b606-48a7-bae0-09c33e4c511e",
   "metadata": {},
   "outputs": [],
   "source": []
  }
 ],
 "metadata": {
  "kernelspec": {
   "display_name": "Python 3.9 (XPython)",
   "language": "python",
   "name": "xpython"
  },
  "language_info": {
   "file_extension": ".py",
   "mimetype": "text/x-python",
   "name": "python",
   "version": "3.9.12"
  }
 },
 "nbformat": 4,
 "nbformat_minor": 5
}
