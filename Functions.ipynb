{
 "cells": [
  {
   "cell_type": "code",
   "execution_count": 1,
   "id": "7594d165-ea9e-450f-8137-979864db4ce2",
   "metadata": {},
   "outputs": [],
   "source": [
    "def is_even(x):\n",
    "    \"\"\"\n",
    "    pass the no. \n",
    "    if it's even output will be True\n",
    "    \"\"\"\n",
    "    return x%2==0"
   ]
  },
  {
   "cell_type": "code",
   "execution_count": 2,
   "id": "7d8559c6-b06d-4240-ad65-3eaf264295e6",
   "metadata": {},
   "outputs": [
    {
     "data": {
      "text/plain": [
       "False"
      ]
     },
     "execution_count": 2,
     "metadata": {},
     "output_type": "execute_result"
    }
   ],
   "source": [
    "is_even(5)"
   ]
  },
  {
   "cell_type": "code",
   "execution_count": 3,
   "id": "d9d44788-0267-4629-ae68-a66763b89406",
   "metadata": {},
   "outputs": [
    {
     "data": {
      "text/plain": [
       "True"
      ]
     },
     "execution_count": 3,
     "metadata": {},
     "output_type": "execute_result"
    }
   ],
   "source": [
    "is_even(84)"
   ]
  },
  {
   "cell_type": "code",
   "execution_count": 4,
   "id": "87b22b3d-0534-4997-8319-063258a84561",
   "metadata": {},
   "outputs": [],
   "source": [
    "def odd_or_even(x):\n",
    "    \"\"\"\n",
    "    returns whether number is odd or even\n",
    "    \"\"\"\n",
    "    if x%2==0:\n",
    "        return \"no. is even\"\n",
    "    else:\n",
    "        return \"no. is odd\""
   ]
  },
  {
   "cell_type": "code",
   "execution_count": 5,
   "id": "5ffa61cf-a5d3-4cbd-88f6-1300d4b2e949",
   "metadata": {},
   "outputs": [
    {
     "data": {
      "text/plain": [
       "'no. is odd'"
      ]
     },
     "execution_count": 5,
     "metadata": {},
     "output_type": "execute_result"
    }
   ],
   "source": [
    "odd_or_even(87)"
   ]
  },
  {
   "cell_type": "code",
   "execution_count": 7,
   "id": "392e35ab-8528-47f2-8041-ee5a3df561af",
   "metadata": {},
   "outputs": [
    {
     "data": {
      "text/plain": [
       "'no. is even'"
      ]
     },
     "execution_count": 7,
     "metadata": {},
     "output_type": "execute_result"
    }
   ],
   "source": [
    "odd_or_even(2)"
   ]
  },
  {
   "cell_type": "code",
   "execution_count": 8,
   "id": "135e9adc-ccad-420a-adef-f48aa47b3594",
   "metadata": {},
   "outputs": [
    {
     "data": {
      "text/plain": [
       "['no. is even',\n",
       " 'no. is even',\n",
       " 'no. is odd',\n",
       " 'no. is odd',\n",
       " 'no. is even',\n",
       " 'no. is odd',\n",
       " 'no. is even']"
      ]
     },
     "execution_count": 8,
     "metadata": {},
     "output_type": "execute_result"
    }
   ],
   "source": [
    "l = [52,12,41,57,32,69,44]\n",
    "\n",
    "[odd_or_even(i) for i in l]"
   ]
  },
  {
   "cell_type": "code",
   "execution_count": 12,
   "id": "93f86180-f64c-4f9c-b38c-9380a54ef101",
   "metadata": {},
   "outputs": [],
   "source": [
    "def odd_or_even(x):\n",
    "    \"\"\"\n",
    "    returns whether number is odd or even\n",
    "    \"\"\"\n",
    "    if type(x) == int:\n",
    "        if x%2==0:\n",
    "            return \"no. is even\"\n",
    "        else:\n",
    "            return \"no. is odd\"\n",
    "    else:\n",
    "        return \"ONLY INPUT NUMBER\""
   ]
  },
  {
   "cell_type": "code",
   "execution_count": 13,
   "id": "cc3f2fc9-a620-4612-90ac-7216a1ea5669",
   "metadata": {},
   "outputs": [
    {
     "data": {
      "text/plain": [
       "'no. is odd'"
      ]
     },
     "execution_count": 13,
     "metadata": {},
     "output_type": "execute_result"
    }
   ],
   "source": [
    "odd_or_even(5)"
   ]
  },
  {
   "cell_type": "code",
   "execution_count": 14,
   "id": "aa6f4717-99a6-467e-aae9-e2105b5f4492",
   "metadata": {},
   "outputs": [
    {
     "data": {
      "text/plain": [
       "'ONLY INPUT NUMBER'"
      ]
     },
     "execution_count": 14,
     "metadata": {},
     "output_type": "execute_result"
    }
   ],
   "source": [
    "odd_or_even('Rohit')"
   ]
  },
  {
   "cell_type": "markdown",
   "id": "a011807d-c86b-49e0-b761-8c6b1fe556aa",
   "metadata": {},
   "source": [
    "# Arbitrary arguments"
   ]
  },
  {
   "cell_type": "code",
   "execution_count": 22,
   "id": "3ea236ed-3a5e-4ef6-9d43-21e1f6830bad",
   "metadata": {},
   "outputs": [],
   "source": [
    "def multiply(*args):\n",
    "    print(args)\n",
    "    print(type(args))\n",
    "    prod = 1\n",
    "    for arg in args:\n",
    "        prod = prod*arg\n",
    "        \n",
    "    return prod"
   ]
  },
  {
   "cell_type": "code",
   "execution_count": 23,
   "id": "7634e1e4-33e5-4d07-b55d-f94d277bbe1e",
   "metadata": {},
   "outputs": [
    {
     "name": "stdout",
     "output_type": "stream",
     "text": [
      "(5, 4, 3)\n",
      "<class 'tuple'>\n"
     ]
    },
    {
     "data": {
      "text/plain": [
       "60"
      ]
     },
     "execution_count": 23,
     "metadata": {},
     "output_type": "execute_result"
    }
   ],
   "source": [
    "multiply(5,4,3)"
   ]
  },
  {
   "cell_type": "code",
   "execution_count": 24,
   "id": "47a14d8c-56b5-4a61-8b48-1ca5e85c1fc2",
   "metadata": {},
   "outputs": [
    {
     "name": "stdout",
     "output_type": "stream",
     "text": [
      "(15, 5, 2, 3)\n",
      "<class 'tuple'>\n"
     ]
    },
    {
     "data": {
      "text/plain": [
       "450"
      ]
     },
     "execution_count": 24,
     "metadata": {},
     "output_type": "execute_result"
    }
   ],
   "source": [
    "multiply(15,5,2,3)"
   ]
  },
  {
   "cell_type": "markdown",
   "id": "83a5430c-13d2-44ae-b137-463ef84b5992",
   "metadata": {},
   "source": [
    "# Positional arguments"
   ]
  },
  {
   "cell_type": "code",
   "execution_count": 25,
   "id": "bee5e5f4-6f2d-4c4d-adb2-d54f267445ed",
   "metadata": {},
   "outputs": [],
   "source": [
    "def power(a, b):\n",
    "    return a**b"
   ]
  },
  {
   "cell_type": "code",
   "execution_count": 26,
   "id": "7f682119-52a0-43c8-bc92-997c1d188b43",
   "metadata": {},
   "outputs": [
    {
     "data": {
      "text/plain": [
       "8"
      ]
     },
     "execution_count": 26,
     "metadata": {},
     "output_type": "execute_result"
    }
   ],
   "source": [
    "power(2,3)"
   ]
  },
  {
   "cell_type": "markdown",
   "id": "ea2d9a33-c71c-4cf1-a68c-10820c73e6f5",
   "metadata": {},
   "source": [
    "# Keyword arguments"
   ]
  },
  {
   "cell_type": "code",
   "execution_count": 28,
   "id": "caa3edcf-07d8-4624-b1d2-0ced9b88dd32",
   "metadata": {},
   "outputs": [
    {
     "data": {
      "text/plain": [
       "9"
      ]
     },
     "execution_count": 28,
     "metadata": {},
     "output_type": "execute_result"
    }
   ],
   "source": [
    "power(b = 2, a = 3)"
   ]
  },
  {
   "cell_type": "markdown",
   "id": "eadc6d60-2874-4687-9bbf-f83dbe367575",
   "metadata": {},
   "source": [
    "# Default arguments"
   ]
  },
  {
   "cell_type": "code",
   "execution_count": 29,
   "id": "098f329c-0e08-4832-bbd3-d4eb1a989e71",
   "metadata": {},
   "outputs": [],
   "source": [
    "def power(a = 2, b = 3):\n",
    "    return a**b"
   ]
  },
  {
   "cell_type": "code",
   "execution_count": 30,
   "id": "5081f178-f6bf-4ce8-94d4-b826d5dfc766",
   "metadata": {},
   "outputs": [
    {
     "data": {
      "text/plain": [
       "8"
      ]
     },
     "execution_count": 30,
     "metadata": {},
     "output_type": "execute_result"
    }
   ],
   "source": [
    "power()"
   ]
  },
  {
   "cell_type": "code",
   "execution_count": null,
   "id": "7057da64-f62e-4cfe-847d-6ff1188e0e4c",
   "metadata": {},
   "outputs": [],
   "source": []
  }
 ],
 "metadata": {
  "kernelspec": {
   "display_name": "Python 3.9 (XPython)",
   "language": "python",
   "name": "xpython"
  },
  "language_info": {
   "file_extension": ".py",
   "mimetype": "text/x-python",
   "name": "python",
   "version": "3.9.12"
  }
 },
 "nbformat": 4,
 "nbformat_minor": 5
}
