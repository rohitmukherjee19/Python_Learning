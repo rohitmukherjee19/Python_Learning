{
 "cells": [
  {
   "cell_type": "code",
   "execution_count": 1,
   "id": "2a5dfbc9-852f-4edc-88a7-73e882cee43a",
   "metadata": {},
   "outputs": [],
   "source": [
    "name = 'Rohit'\n",
    "age = 27\n",
    "weight = 61\n",
    "height = 2\n",
    "\n",
    "BMI = weight/(height**2)"
   ]
  },
  {
   "cell_type": "code",
   "execution_count": 4,
   "id": "f07c61d1-6a26-4e3c-bdb2-22f4048d00b4",
   "metadata": {},
   "outputs": [
    {
     "name": "stdout",
     "output_type": "stream",
     "text": [
      "<class 'str'>\n",
      "<class 'int'>\n",
      "<class 'int'>\n",
      "<class 'int'>\n",
      "<class 'float'>\n"
     ]
    }
   ],
   "source": [
    "print(type(name))\n",
    "print(type(age))\n",
    "print(type(weight))\n",
    "print(type(height))\n",
    "print(type(BMI))"
   ]
  },
  {
   "cell_type": "code",
   "execution_count": 6,
   "id": "d3bc962b-cbc7-43fc-a45c-3cb8105487b1",
   "metadata": {},
   "outputs": [],
   "source": [
    "class Item:\n",
    "    pass\n",
    "\n",
    "item1 = Item()\n",
    "item1.name = 'Rahul'\n",
    "item1.color = 'Red'\n",
    "item1.age = 27"
   ]
  },
  {
   "cell_type": "code",
   "execution_count": 7,
   "id": "32a510a4-a010-418b-b0a3-2404849aaa15",
   "metadata": {},
   "outputs": [
    {
     "name": "stdout",
     "output_type": "stream",
     "text": [
      "<class '__main__.Item'>\n",
      "<class 'str'>\n",
      "<class 'str'>\n",
      "<class 'int'>\n"
     ]
    }
   ],
   "source": [
    "print(type(item1))\n",
    "print(type(item1.name))\n",
    "print(type(item1.color))\n",
    "print(type(item1.age))"
   ]
  },
  {
   "cell_type": "code",
   "execution_count": 10,
   "id": "d79b3134-91dd-4d6d-964c-b043c1e9b10a",
   "metadata": {},
   "outputs": [
    {
     "name": "stdout",
     "output_type": "stream",
     "text": [
      "CEWWNCJCENC\n"
     ]
    }
   ],
   "source": [
    "random_str = 'cewwncjcenc'\n",
    "print(random_str.upper())"
   ]
  },
  {
   "cell_type": "code",
   "execution_count": 15,
   "id": "d0dfdd25-34ad-4dfc-9635-d99ea18d6772",
   "metadata": {},
   "outputs": [],
   "source": [
    "class Item:\n",
    "    \n",
    "    def __init__(self, product, price, quantity):\n",
    "        self.product = product\n",
    "        self.price = price\n",
    "        self.quantity = quantity\n",
    "        \n",
    "    def calculate_total_price(self):\n",
    "        print(\"Total price of {} is {}\".format(self.product, self.price*self.quantity))"
   ]
  },
  {
   "cell_type": "code",
   "execution_count": 16,
   "id": "bbb73bf3-bdde-4772-ba1a-ac310d55c7a5",
   "metadata": {},
   "outputs": [
    {
     "name": "stdout",
     "output_type": "stream",
     "text": [
      "Total price of Mobile is 50000\n",
      "None\n",
      "Total price of Laptop is 250000\n",
      "None\n"
     ]
    }
   ],
   "source": [
    "item1 = Item('Mobile', 5000, 10)\n",
    "item2 = Item('Laptop', 50000, 5)\n",
    "\n",
    "print(item1.calculate_total_price())\n",
    "print(item2.calculate_total_price())"
   ]
  },
  {
   "cell_type": "code",
   "execution_count": null,
   "id": "26c1853e-e009-417f-85f7-859de1a860b4",
   "metadata": {},
   "outputs": [],
   "source": []
  }
 ],
 "metadata": {
  "kernelspec": {
   "display_name": "Python 3.9 (XPython)",
   "language": "python",
   "name": "xpython"
  },
  "language_info": {
   "file_extension": ".py",
   "mimetype": "text/x-python",
   "name": "python",
   "version": "3.9.12"
  }
 },
 "nbformat": 4,
 "nbformat_minor": 5
}
